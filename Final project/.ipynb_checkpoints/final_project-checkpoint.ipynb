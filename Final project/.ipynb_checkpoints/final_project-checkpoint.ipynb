{
 "cells": [
  {
   "cell_type": "code",
   "execution_count": 1,
   "metadata": {
    "scrolled": false
   },
   "outputs": [
    {
     "name": "stdout",
     "output_type": "stream",
     "text": [
      "Size of bit array: 144\n",
      "False positive Probability: 0.5 %\n",
      "Number of hash functions: 0\n",
      "\n"
     ]
    }
   ],
   "source": [
    "import sys\n",
    "import time\n",
    "import matplotlib.pyplot as plt\n",
    "from random import shuffle\n",
    "from skip_list import SkipList\n",
    "from bloom_filter import BloomFilter"
   ]
  },
  {
   "cell_type": "markdown",
   "metadata": {},
   "source": [
    "# Exam\n",
    "## Kaloyan Kulov\n",
    "### Statistics"
   ]
  },
  {
   "cell_type": "markdown",
   "metadata": {},
   "source": [
    "## What is data structure?\n",
    "In computer science, a data structure is a data organization, management, and storage format that enables efficient access and modification. More precisely, a data structure is a collection of data values, the relationships among them, and the functions or operations that can be applied to the data."
   ]
  },
  {
   "cell_type": "markdown",
   "metadata": {},
   "source": [
    "## What is a probabilistic data structure?\n",
    "Probabilistic data structures are a group of data structures that are extremely useful for big data and streaming applications. By using them, we get an approximately solution, which may or may not be the exact answer, but it's close to it. Probablistic data structure will rely on some form of probablity such as using randomness, hasing, and etc to reach an approximate solution also they are proven to use either a fixed or sublinear memory and have constant execution time. Comparing with error-free approaches, these algorithms use much less memory and have constant query time. They usually support union and intersection operations and therefore can be easily parallelized."
   ]
  },
  {
   "cell_type": "markdown",
   "metadata": {},
   "source": [
    "### What advantages do these structures provide?\n",
    "Because probabilistic data structures can't give you an exact answer, instead they provide you with a reasonable approximation of the answer and a way to approximate this estimation. They are extremely useful for big data and streaming application because they allow to dramatically decrease the amount of memory needed (in comparison to data structures that give you exact answers).\n",
    "\n",
    "In many cases these data structures are using hash functions to randomize the items, because they ignore collisions, they keep the size constant, but this is also the reason, why they can't give you exact values. The advantages they bring are:\n",
    "\n",
    "- they use small amount of memory (you can control how much)\n",
    "- they can be easily parallelizable (hashes are independent)\n",
    "- they have constant query time (not even amortized constant like in dictionary)"
   ]
  },
  {
   "cell_type": "markdown",
   "metadata": {},
   "source": [
    "## Bloom Filter\n",
    "The Bloom filter is a space-efficient probabilistic data structure that is used to test whether an element is a member of a set.  \n",
    "The price we pay for efficiency is that it is probabilistic in nature that means, there might be some False Positive results. False positive means, it might tell that given username is already taken but actually it’s not. Bloom filters are both fast and space-efficient. However, elements can only be added, not removed.\n",
    "\n",
    "For example, checking availability of username is set membership problem, where the set is the list of all registered username.\n",
    "\n",
    "Boom filter requires these three inputs:\n",
    "* m: size of the bit array\n",
    "* n: estimated insertion\n",
    "* p: false positive probability\n",
    "\n",
    "An empty Bloom filter is a bit array of m bits, all set to 0. There are also k different hash functions, each of which maps a set element to one of the m bit positions.\n",
    "* To add an element, feed it to the hash functions to get k bit positions, and set the bits at these positions to 1.\n",
    "* To test if an element is in the set, feed it to the hash functions to get k bit positions.\n",
    "    * If any of the bits at these positions is 0, the element definitely isn’t the set.\n",
    "    * If all are 1, then the element may be in the set.\n",
    "\n",
    "For understanding bloom filters, you must know what is hashing.<br>\n",
    "A hash function takes input and outputs a unique identifier of fixed length which is used for identification of input.<br> \n",
    "A hash function is a function that takes a set of inputs of any arbitrary size and fits them into a table or other data structure that contains fixed-size elements.\n",
    "\n",
    "## What is a False Positve?\n",
    "There are some cases, where two element could refer to the same array position. In those cases the second item doesn't change it array position value, but the first item would have set its value as 1. Therefore in these cases even if the element isn't presented in the set, its existence is returned as 1."
   ]
  },
  {
   "cell_type": "markdown",
   "metadata": {},
   "source": [
    "## How does the structure work?\n",
    "First of all an empty bloom filter is a bit array of m bits, all set to zero, like that one:<br>\n",
    "<img style=\"width:50%;\" src=\"Images/bloom_filter1.png\"><br>\n",
    "For us, to calculate the hashes for a given input, we will need k number of hash functions.When we want to add an item in the filter, the bits at k indices h1(x), h2(x), … hk(x) are set, where indices are calculated using hash functions.<br>\n",
    "For example, let's suppose we want to enter the word “geeks” in the filter. We are using 3 hash functions and a bit array of length 10, all set to 0 initially. First we’ll calculate the hashes as following :<br><br>\n",
    "\n",
    "<center>h1(\"geeks\") % 10 = 1 <br>\n",
    "h1(\"geeks\") % 10 = 4 <br>\n",
    "h1(\"geeks\") % 10 = 7</center><br>\n",
    "\n",
    "Now we are going to set the indexes on positions 1, 4 and 7 to 1.<br>\n",
    "<img style=\"width:50%;\" src=\"Images/bloom_filter2.png\">\n",
    "\n",
    "And if we want to enter a word, for example. First we will calculate the hashes.<br><br>\n",
    "\n",
    "<center>h1(“nerd”) % 10 = 3<br>\n",
    "h2(“nerd”) % 10 = 5<br>\n",
    "h3(“nerd”) % 10 = 4</center><br>\n",
    "\n",
    "So we will set the indexes on positions 3, 5 and 4 to 1.<br>\n",
    "<img style=\"width:50%;\" src=\"Images/bloom_filter3.png\">\n",
    "\n",
    "Now if we want to check “geeks” is present in filter or not. We’ll do the same process but this time in reverse order. We calculate respective hashes using h1, h2 and h3 and check if all these indices are set to 1 in the bit array. If all the bits are set then we can say that “geeks” is probably present. If any of the bit at these indices are 0 then “geeks” is definitely not present.\n",
    "\n",
    "But why do we called it probably present. Isn't it uncertain? Let's suppose we want to check whether “cat” is present or not. We’ll calculate hashes using h1, h2 and h3.\n",
    "\n",
    "<center>h1(“cat”) % 10 = 1<br>\n",
    "h2(“cat”) % 10 = 3<br>\n",
    "h3(“cat”) % 10 = 7</center>\n",
    "\n",
    "If we check the bit array, bits at these indices are set to 1 but we know that “cat” was never added to the filter. Bit at index 1 and 7 was set when we added “geeks” and bit 3 was set we added “nerd”.\n",
    "<img style=\"width:50%;\" src=\"Images/bloom_filter4.png\">\n",
    "\n",
    "So, because bits at calculated indices are already set by some other item, bloom filter erroneously claim that “cat” is present and generating a false positive result. Depending on the application, it could be huge downside or relatively okay.\n",
    "We can control the probability of getting a false positive by controlling the size of the Bloom filter. More space means fewer false positives. If we want decrease probability of false positive result, we have to use more number of hash functions and larger bit array. This would add latency in addition of item and checking membership. "
   ]
  },
  {
   "cell_type": "markdown",
   "metadata": {},
   "source": [
    "### What operations can be done?\n",
    "Operations that a Bloom Filter supports  \n",
    "\n",
    "* add(x) : insert an element into the Bloom Filter.\n",
    "* check(x) : checks whether an element is already present in the Bloom Filter with a positive false probability."
   ]
  },
  {
   "cell_type": "markdown",
   "metadata": {},
   "source": [
    "### Probability of False positivity:\n",
    "To calculate the **Probability of False positive**, marked with p, we need:\n",
    "* m - size of bit array\n",
    "* k - number of hash functions\n",
    "* n - number of expected elements to be inserted in the Bloom Filter\n",
    "\n",
    "We will mark false positive probability with p and can calculate it as:\n",
    "\n",
    "$$P = (1 - [1 - \\frac{1}{m}]^{kn})^k$$"
   ]
  },
  {
   "cell_type": "markdown",
   "metadata": {},
   "source": [
    "### Size of Bit Array\n",
    "To calculate the size of the bit array(**m**) we need:\n",
    "* n - number of expected elements to be inserted in the Bloom Filter\n",
    "* p - false positive probability\n",
    "\n",
    "We can calculate **m** with the formula:\n",
    "\n",
    "$$m = \\frac{n\\ln{P}}{(\\ln2)^2}$$"
   ]
  },
  {
   "cell_type": "markdown",
   "metadata": {},
   "source": [
    "### Number of hash functions\n",
    "To calculate the most optimum number of hash functions(**k**), we will need:\n",
    "* m - size of bit array\n",
    "* n - number of expected elements to be inserted in the Bloom Filter\n",
    "\n",
    "We'll be calculating **k** as:\n",
    "\n",
    "$$k = \\frac{m}{n}\\ln{2}$$"
   ]
  },
  {
   "cell_type": "markdown",
   "metadata": {},
   "source": [
    "## Blooms' Filter performance\n",
    "A Bloom filter with one hash function is equivalent to ordinary hashing. Bloom filter is a generalization of hashing. It allows for more interesting design tradeoffs.\n",
    "The complexity to add an element or to query the filter is fixed at O(k). In other words, it's independent of how many items have been added to the filter.\n",
    "Bloom filter simplifies some operations. Suppose we have two filters to represents sets S1 and S2. The union of the these two sets is simply an OR operation of the two filters. Intersection of the two sets can also be approximated with the filters. Another trick is to half the size of the filter with an OR operation of the first and second halves of the filter."
   ]
  },
  {
   "cell_type": "code",
   "execution_count": 185,
   "metadata": {
    "collapsed": true
   },
   "outputs": [
    {
     "name": "stdout",
     "output_type": "stream",
     "text": [
      "Size of bit array: 72\n",
      "False positive Probability: 0.5 %\n",
      "Number of hash functions: 0\n",
      "\n",
      "cohesive is a false positive!\n",
      "racism is a false positive!\n",
      "gloomy is a false positive!\n",
      "cheater is a false positive!\n",
      "abundant is a false positive!\n",
      "hate is a false positive!\n",
      "abound is a false positive!\n",
      "generously is a false positive!\n",
      "comely is a false positive!\n",
      "bluff is a false positive!\n",
      "hurt is a false positive!\n",
      "bloom is a false positive!\n",
      "bonuses is a false positive!\n",
      "abundance is a false positive!\n",
      "comfort is a false positive!\n",
      "geeksforgeeks is a false positive!\n",
      "bonus is a false positive!\n",
      "facebook is a false positive!\n",
      "genial is a false positive!\n",
      "humanity is a false positive!\n",
      "colorful is a false positive!\n",
      "war is a false positive!\n",
      "gems is a false positive!\n",
      "generosity is a false positive!\n",
      "nuke is a false positive!\n",
      "accessable is a false positive!\n",
      "twitter is a false positive!\n",
      "coherent is a false positive!\n",
      "blossom is a false positive!\n",
      "abounds is a false positive!\n",
      "bonny is a false positive!\n",
      "bolster is a false positive!\n",
      "generous is a false positive!\n"
     ]
    }
   ],
   "source": [
    "n = 50 # number of items, that we want to add\n",
    "p = 0.5 # false positive probability\n",
    "bloomf = BloomFilter(n,p)\n",
    "print(bloomf)\n",
    "\n",
    "word_absent = ['bluff','cheater','hate','war','humanity', 'racism','hurt','nuke',\n",
    "               'gloomy','facebook','geeksforgeeks','twitter']\n",
    "\n",
    "word_present = ['abound','abounds','abundance','abundant','accessable', 'bloom','blossom','bolster',\n",
    "                'bonny','bonus', 'bonuses', 'coherent','cohesive','colorful','comely','comfort',\n",
    "                'gems','generosity','generous','generously','genial']\n",
    "\n",
    "bloomf.add_items_from_list(word_present)\n",
    "test_words = word_present + word_absent\n",
    "bloomf.check_items_from_list(test_words)"
   ]
  },
  {
   "cell_type": "markdown",
   "metadata": {},
   "source": [
    "## Space and time advantages\n",
    "Bloom filter have a spectacular space advantage over other data strucuture for representing sets, such as self-balancing binary search trees, tries, hash tables, or simple arrays or linked lists of the entries. Most of these data structures are storing at least the data items in themselves, but bloom filter don't store the data items at all. For example linked data structures require additional space, where a bloom filter with 1% error and k optimal value, need only 9.6 bits per element, regardless the size of the element. This advantage of the bloom filter is partly inherited from the arrays and from its probabilistic nature.\n",
    "\n",
    "Anyway, if the number of potential values is small, the Bloom filter is easily surpassed by the deterministic bit array, which requires only one bit for each potential element. Hash tables gain a space and time advantage if they begin ignoring collisions and store only whether each bucket contains an value, in this case, they have effectively become Bloom filters with k = 1."
   ]
  },
  {
   "cell_type": "code",
   "execution_count": 187,
   "metadata": {},
   "outputs": [
    {
     "data": {
      "image/png": "[encoded data removed]",
      "text/plain": [
       "<Figure size 432x288 with 1 Axes>"
      ]
     },
     "metadata": {
      "needs_background": "light"
     },
     "output_type": "display_data"
    }
   ],
   "source": [
    "word_present = ['abound','abounds','abundance','abundant','accessable', 'bloom','blossom',\n",
    "                'bolster','bonny','bonus','bonuses','coherent','cohesive','colorful','comely',\n",
    "                'comfort','gems','generosity','generous','generously','genial']\n",
    "\n",
    "bloomf.plot_sizeof_data_structures_compared_to_a_normal_list(word_present)"
   ]
  },
  {
   "cell_type": "markdown",
   "metadata": {},
   "source": [
    "Bloom filters also have the unusual property that the time needed either to add items or to check whether an item is in the set is a fixed constant, O(k), completely independent of the number of items already in the set. No other constant-space set data structure has this property, but the average access time of sparse hash tables can make them faster in practice than some Bloom filters. In a hardware implementation, however, the Bloom filter shines because its k lookups are independent and can be parallelized.\n",
    "\n",
    "To understand its space efficiency, it is instructive to compare the general Bloom filter with its special case when k = 1. If k = 1, then in order to keep the false positive rate sufficiently low, a small fraction of bits should be set, which means the array must be very large and contain long runs of zeros. The information content of the array relative to its size is low. The generalized Bloom filter (k greater than 1) allows many more bits to be set while still maintaining a low false positive rate; if the parameters (k and m) are chosen well, about half of the bits will be set,[5] and these will be apparently random, minimizing redundancy and maximizing information content."
   ]
  },
  {
   "cell_type": "code",
   "execution_count": 179,
   "metadata": {},
   "outputs": [
    {
     "name": "stdout",
     "output_type": "stream",
     "text": [
      "Bloom filter: 0.0005544000000554661\n",
      "Normal list: 0.00017740000021149172\n"
     ]
    }
   ],
   "source": [
    "n = 100000\n",
    "p = 0.5\n",
    "\n",
    "bloomf = BloomFilter(n,p)\n",
    "test_list = []\n",
    "\n",
    "start = time.perf_counter()\n",
    "[bloomf.add(x) for x in range(-100, 1000, 1)]\n",
    "end = time.perf_counter()\n",
    "bloom_filter_time = end - start\n",
    "\n",
    "start = time.perf_counter()\n",
    "[test_list.append(x) for x in range(-100, 1000, 1)]\n",
    "end = time.perf_counter()\n",
    "list_time = end - start\n",
    "\n",
    "print(f\"Bloom filter: {bloom_filter_time}\")\n",
    "print(f\"Normal list: {list_time}\")"
   ]
  },
  {
   "cell_type": "markdown",
   "metadata": {},
   "source": [
    "## Comparing Bloom Filter with another non-probabilistic data structure\n",
    "I chose to compare the Bloom Filter with HashTable\n",
    "\n",
    "HashTable is a data strucuture, which stores key-value pairs (like dicitionaries in python). The way it works is that the key is sent to a hash function, which performs arithhmetic operations on it and after that they return the hash value, which is used as the index for accessing the key-value pair in the hash table.\n",
    "\n",
    "1. How they store objects?\n",
    "    * HashTable store objects by their index.\n",
    "    * Bloom Filter don't store the objects. He tells only if the object is present or not.\n",
    "2. How much space do they take?\n",
    "    * Because of the fact that all string must map to ceratin location, HashTables are less space efficient.\n",
    "    * Because Bloom Filters are just an arrays of 0s and 1s, they are more space efficient.\n",
    "3. How accurate are they?\n",
    "    * HashTables give more accurate results.\n",
    "    * Bloom Filters have small false positive probability.\n",
    "4. Do they support deletion operations?\n",
    "    * HashTables support deletion, as they mark the object location as NULL. \n",
    "    * Bloom Filters don't support deletion. If you want to delete an item, you need to restart the filter.\n",
    "5. How do they deal with collisions?\n",
    "    * HashTables have to minimize the collisions, so you must choose multiple hashes or a strong hash.\n",
    "    * There is no need to handle collisions, as the Bloom Filter is using many hash functions.\n",
    "6. What are they used for?\n",
    "    * Hashmaps are used in compiler operations, programming languages(hash table based data structures),password verification, etc.\n",
    "    * Bloom Filters have application in network routers, in web browsers(detecting malicious URLs),in existing username checkers, in password checkers etc."
   ]
  },
  {
   "cell_type": "markdown",
   "metadata": {},
   "source": [
    "## Bloom Filter application\n",
    "Bloom filter has a large number of applications:\n",
    "* Weak password detection\n",
    "* Internet Cache Protocol\n",
    "* Safe browsing in Google Chrome\n",
    "* Wallet synchronization in Bitcoin\n",
    "* Hash based IP Traceback\n",
    "* Cyber security like virus scanning"
   ]
  },
  {
   "cell_type": "markdown",
   "metadata": {},
   "source": [
    "# Skip List"
   ]
  },
  {
   "cell_type": "markdown",
   "metadata": {},
   "source": [
    "## What is a Skip List?\n",
    "The skip list is a probabilisitc data structure that is built upon the general idea of a linked list. The skip list uses probability to build subsequent layers of linked lists upon an original linked list. Each additional layer of links contains fewer elements, but no new elements."
   ]
  },
  {
   "cell_type": "markdown",
   "metadata": {},
   "source": [
    "## What is the structure of the Skip List?\n",
    "It is built in two layers: \n",
    "* The lowest layer\n",
    "* Top layer.\n",
    "\n",
    "The lowest layer of the skip list is a common sorted linked list, and the top layers of the skip list are like an \"express line\" where the elements are skipped.\n",
    "\n",
    "A skip list starts with a basic, ordered, linked list. This list is sorted, but we can't do a binary search on it because it is a linked list and we cannot index into it. But the ordering will come in handy later.\n",
    "\n",
    "Then, another layer is added on top of the bottom list. This new layer will include any given element from the previous layer with probability p.p. This probability can vary, but oftentimes 1/2 is used. Additionally, the first node in the linked list is often always kept, as a header for the new layer. Take a look at the following graphics and see how some elements are kept but others are discarded. Here, it just so happened that half of the elements are kept in each new layer, but it could be more or less--it's all probabilistic. In all cases, each new layer is still ordered.\n",
    "<img src=\"Images/skip_list1.png\">"
   ]
  },
  {
   "cell_type": "markdown",
   "metadata": {},
   "source": [
    "## Working with Skip List\n",
    "### Deciding nodes level\n",
    "While inserting an element in the list, it is represented by a node, which is chosen randomly. The level doesn't depend on the number of elements in the node. Also another important term is max level, which is the upper bound on number of levels of the skip list. It could be calculated as:\n",
    "$$L(N)=\\log_{p/2}N$$\n",
    "\n",
    "### Working\n",
    "The idea is simple, we create multiple layers so that we can skip some nodes. See the following example list with 16 nodes and two layers. The upper layer works as an “express lane” which connects only main outer stations, and the lower layer works as a “normal lane” which connects every station. Suppose we want to search for 50, we start from first node of “express lane” and keep moving on “express lane” till we find a node whose next is greater than 50. Once we find such a node (30 is the node in following example) on “express lane”, we move to “normal lane” using pointer from this node, and linearly search for 50 on “normal lane”. In following example, we start from 30 on “normal lane” and with linear search, we find 50.\n",
    "\n",
    "<br>\n",
    "\n",
    "Let's take an example to understand the working of the skip list. In this example, we have 14 nodes, such that these nodes are divided into two layers, as shown in the diagram.\n",
    "\n",
    "The lower layer is a common line that links all nodes, and the top layer is an express line that links only the main nodes, as you can see in the diagram.\n",
    "\n",
    "Suppose you want to find 47 in this example. You will start the search from the first node of the express line and continue running on the express line until you find a node that is equal a 47 or more than 47.\n",
    "\n",
    "You can see in the example that 47 does not exist in the express line, so you search for a node of less than 47, which is 40. Now, you go to the normal line with the help of 40, and search the 47, as shown in the diagram."
   ]
  },
  {
   "cell_type": "code",
   "execution_count": 17,
   "metadata": {
    "collapsed": true
   },
   "outputs": [
    {
     "name": "stdout",
     "output_type": "stream",
     "text": [
      "Successfully inserted key 3\n",
      "Successfully inserted key 6\n",
      "Successfully inserted key 7\n",
      "Successfully inserted key 9\n",
      "Successfully inserted key 12\n",
      "Successfully inserted key 19\n",
      "Successfully inserted key 17\n",
      "Successfully inserted key 26\n",
      "Successfully inserted key 21\n",
      "Successfully inserted key 25\n",
      "Successfully inserted key 69\n",
      "Successfully inserted key 51\n",
      "Successfully inserted key 96\n",
      "Successfully inserted key 73\n",
      "Successfully inserted key 74\n",
      "Successfully inserted key 61\n",
      "\n",
      "*****Skip List******\n",
      "Level 0:  3 6 7 9 12 17 19 21 25 26 51 61 69 73 74 96 \n",
      "Level 1:  3 6 7 9 19 61 73 74 \n",
      "Level 2:  3 6 9 61 73 \n",
      "Level 3:  6 9 73 \n"
     ]
    }
   ],
   "source": [
    "lst = SkipList(3, 0.5)\n",
    "lst.insertElement(3)\n",
    "lst.insertElement(6)\n",
    "lst.insertElement(7)\n",
    "lst.insertElement(9)\n",
    "lst.insertElement(12)\n",
    "lst.insertElement(19)\n",
    "lst.insertElement(17)\n",
    "lst.insertElement(26)\n",
    "lst.insertElement(21)\n",
    "lst.insertElement(25)\n",
    "\n",
    "lst.insertElement(69)\n",
    "lst.insertElement(51)\n",
    "lst.insertElement(96)\n",
    "lst.insertElement(73)\n",
    "lst.insertElement(74)\n",
    "lst.insertElement(61)\n",
    "lst.displayList()"
   ]
  },
  {
   "cell_type": "code",
   "execution_count": 18,
   "metadata": {
    "collapsed": true
   },
   "outputs": [
    {
     "name": "stdout",
     "output_type": "stream",
     "text": [
      "Successfully inserted key 0\n",
      "Successfully inserted key 1\n",
      "Successfully inserted key 2\n",
      "Successfully inserted key 3\n",
      "Successfully inserted key 4\n",
      "Successfully inserted key 5\n",
      "Successfully inserted key 6\n",
      "Successfully inserted key 7\n",
      "Successfully inserted key 8\n",
      "Successfully inserted key 9\n",
      "Successfully inserted key 10\n",
      "Successfully inserted key 11\n",
      "Successfully inserted key 12\n",
      "Successfully inserted key 13\n",
      "Successfully inserted key 14\n",
      "Successfully inserted key 15\n",
      "Successfully inserted key 16\n",
      "Successfully inserted key 17\n",
      "Successfully inserted key 18\n",
      "Successfully inserted key 19\n",
      "Successfully inserted key 20\n",
      "Successfully inserted key 21\n",
      "Successfully inserted key 22\n",
      "Successfully inserted key 23\n",
      "Successfully inserted key 24\n",
      "Successfully inserted key 25\n",
      "Successfully inserted key 26\n",
      "Successfully inserted key 27\n",
      "Successfully inserted key 28\n",
      "Successfully inserted key 29\n",
      "Successfully inserted key 30\n",
      "Successfully inserted key 31\n",
      "Successfully inserted key 32\n",
      "Successfully inserted key 33\n",
      "Successfully inserted key 34\n",
      "Successfully inserted key 35\n",
      "Successfully inserted key 36\n",
      "Successfully inserted key 37\n",
      "Successfully inserted key 38\n",
      "Successfully inserted key 39\n",
      "Successfully inserted key 40\n",
      "Successfully inserted key 41\n",
      "Successfully inserted key 42\n",
      "Successfully inserted key 43\n",
      "Successfully inserted key 44\n",
      "Successfully inserted key 45\n",
      "Successfully inserted key 46\n",
      "Successfully inserted key 47\n",
      "Successfully inserted key 48\n",
      "Successfully inserted key 49\n",
      "Successfully inserted key 50\n",
      "Successfully inserted key 51\n",
      "Successfully inserted key 52\n",
      "Successfully inserted key 53\n",
      "Successfully inserted key 54\n",
      "Successfully inserted key 55\n",
      "Successfully inserted key 56\n",
      "Successfully inserted key 57\n",
      "Successfully inserted key 58\n",
      "Successfully inserted key 59\n",
      "Successfully inserted key 60\n",
      "Successfully inserted key 61\n",
      "Successfully inserted key 62\n",
      "Successfully inserted key 63\n",
      "Successfully inserted key 64\n",
      "Successfully inserted key 65\n",
      "Successfully inserted key 66\n",
      "Successfully inserted key 67\n",
      "Successfully inserted key 68\n",
      "Successfully inserted key 69\n",
      "Successfully inserted key 70\n",
      "Successfully inserted key 71\n",
      "Successfully inserted key 72\n",
      "Successfully inserted key 73\n",
      "Successfully inserted key 74\n",
      "Successfully inserted key 75\n",
      "Successfully inserted key 76\n",
      "Successfully inserted key 77\n",
      "Successfully inserted key 78\n",
      "Successfully inserted key 79\n",
      "Successfully inserted key 80\n",
      "Successfully inserted key 81\n",
      "Successfully inserted key 82\n",
      "Successfully inserted key 83\n",
      "Successfully inserted key 84\n",
      "Successfully inserted key 85\n",
      "Successfully inserted key 86\n",
      "Successfully inserted key 87\n",
      "Successfully inserted key 88\n",
      "Successfully inserted key 89\n",
      "Successfully inserted key 90\n",
      "Successfully inserted key 91\n",
      "Successfully inserted key 92\n",
      "Successfully inserted key 93\n",
      "Successfully inserted key 94\n",
      "Successfully inserted key 95\n",
      "Successfully inserted key 96\n",
      "Successfully inserted key 97\n",
      "Successfully inserted key 98\n",
      "Successfully inserted key 99\n",
      "\n",
      "*****Skip List******\n",
      "Level 0:  0 1 2 3 4 5 6 7 8 9 10 11 12 13 14 15 16 17 18 19 20 21 22 23 24 25 26 27 28 29 30 31 32 33 34 35 36 37 38 39 40 41 42 43 44 45 46 47 48 49 50 51 52 53 54 55 56 57 58 59 60 61 62 63 64 65 66 67 68 69 70 71 72 73 74 75 76 77 78 79 80 81 82 83 84 85 86 87 88 89 90 91 92 93 94 95 96 97 98 99 \n",
      "Level 1:  0 1 2 3 7 8 10 12 14 16 20 21 23 24 27 28 31 32 33 34 36 37 38 39 40 41 43 44 47 48 51 54 55 58 59 65 66 68 71 72 74 75 78 80 82 84 86 87 88 90 92 94 96 99 \n",
      "Level 2:  7 10 14 20 24 28 31 32 33 34 36 37 40 41 48 54 65 66 68 75 78 80 84 94 99 \n",
      "Level 3:  7 14 20 28 40 54 65 66 78 94 \n"
     ]
    }
   ],
   "source": [
    "skip_list = SkipList(3, 0.5)\n",
    "\n",
    "for item in range(0, 100, 1):\n",
    "    skip_list.insertElement(item)\n",
    "\n",
    "skip_list.displayList()"
   ]
  },
  {
   "cell_type": "markdown",
   "metadata": {},
   "source": [
    "### 13. Probabilistic Data Structures\n",
    "A very interesting application of probability in computer science is a kind of data structures which have a probabilistic behaviour. Examples of these are **Bloom filter**, **Skip list**, **Count-min sketch** and **HyperLogLog**.\n",
    "\n",
    "Research how one of these structures works. Or write about many of them, if you wish. You can use the following checklist as a guide: \n",
    "* ~~What is a data structure?~~\n",
    "* ~~What is a probabilistic data structure?~~\n",
    "    * Where does the probabilistic behaviour emerge?\n",
    "    * ~~What advantages do these structures provide?~~\n",
    "* ~~For your chosen structure, how is it constructed?~~\n",
    "    * ~~What parts do you need? What are the details?~~\n",
    "* ~~How does the structure work?~~\n",
    "    * ~~What operations can you do?~~\n",
    "    * What are the typical probabilities associated with these operations?\n",
    "* Analyze the structure\n",
    "    * Analyze the runtimes for all operations\n",
    "    * Analyze the space usage\n",
    "    * Compare to a similar, non-probabilistic data structure\n",
    "    * What advantages does the new data structure have? What drawbacks do you need to be aware of?\n",
    "* Give at least one example where this structure is useful\n",
    "    * E.g. Bloom filter - spell checkers\n",
    "    * Analyze the use case\n",
    "    * If possible, implement the use case\n",
    "    * Display some metrics (e.g. % conserved space, % reduced time)"
   ]
  }
 ],
 "metadata": {
  "kernelspec": {
   "display_name": "Python 3",
   "language": "python",
   "name": "python3"
  },
  "language_info": {
   "codemirror_mode": {
    "name": "ipython",
    "version": 3
   },
   "file_extension": ".py",
   "mimetype": "text/x-python",
   "name": "python",
   "nbconvert_exporter": "python",
   "pygments_lexer": "ipython3",
   "version": "3.8.5"
  }
 },
 "nbformat": 4,
 "nbformat_minor": 4
}
