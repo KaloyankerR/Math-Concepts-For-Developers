{
 "cells": [
  {
   "cell_type": "code",
   "execution_count": 1,
   "metadata": {},
   "outputs": [
    {
     "name": "stdout",
     "output_type": "stream",
     "text": [
      "Size of bit array: 124\n",
      "False positive Probability: 0.05 %\n",
      "Number of hash functions: 4\n",
      "'nuke' is definitely not present!\n",
      "'bolster' is probably present!\n",
      "'gloomy' is definitely not present!\n",
      "'cohesive' is probably present!\n",
      "'bluff' is definitely not present!\n",
      "'comely' is probably present!\n",
      "'cheater' is definitely not present!\n",
      "'twitter' is a false positive!\n",
      "'generosity' is probably present!\n",
      "'bonny' is probably present!\n",
      "'colorful' is probably present!\n",
      "'war' is definitely not present!\n",
      "'geeksforgeeks' is definitely not present!\n",
      "'comfort' is probably present!\n",
      "'gems' is probably present!\n",
      "'facebook' is definitely not present!\n",
      "'bonuses' is probably present!\n",
      "'abound' is probably present!\n",
      "'humanity' is definitely not present!\n",
      "'hurt' is definitely not present!\n",
      "'racism' is definitely not present!\n",
      "'hate' is definitely not present!\n"
     ]
    }
   ],
   "source": [
    "from bloom_filter import BloomFilter\n",
    "from random import shuffle"
   ]
  },
  {
   "cell_type": "markdown",
   "metadata": {},
   "source": [
    "# Exam"
   ]
  },
  {
   "cell_type": "markdown",
   "metadata": {},
   "source": [
    "## Statistics"
   ]
  },
  {
   "cell_type": "markdown",
   "metadata": {},
   "source": [
    "### 13. Probabilistic Data Structures\n",
    "A very interesting application of probability in computer science is a kind of data structures which have a probabilistic behaviour. Examples of these are **Bloom filter**, **Skip list**, **Count-min sketch** and **HyperLogLog**.\n",
    "\n",
    "Research how one of these structures works. Or write about many of them, if you wish. You can use the following checklist as a guide: \n",
    "* ~~What is a data structure?~~\n",
    "* ~~What is a probabilistic data structure?~~\n",
    "    * Where does the probabilistic behaviour emerge?\n",
    "    * ~~What advantages do these structures provide?~~\n",
    "* ~~For your chosen structure, how is it constructed?~~\n",
    "    * ~~What parts do you need? What are the details?~~\n",
    "* ~~How does the structure work?~~\n",
    "    * ~~What operations can you do?~~\n",
    "    * What are the typical probabilities associated with these operations?\n",
    "* Analyze the structure\n",
    "    * Analyze the runtimes for all operations\n",
    "    * Analyze the space usage\n",
    "    * Compare to a similar, non-probabilistic data structure\n",
    "    * What advantages does the new data structure have? What drawbacks do you need to be aware of?\n",
    "* Give at least one example where this structure is useful\n",
    "    * E.g. Bloom filter - spell checkers\n",
    "    * Analyze the use case\n",
    "    * If possible, implement the use case\n",
    "    * Display some metrics (e.g. % conserved space, % reduced time)"
   ]
  },
  {
   "cell_type": "markdown",
   "metadata": {},
   "source": [
    "### What is data structure?\n",
    "In computer science, a data structure is a data organization, management, and storage format that enables efficient access and modification. More precisely, a data structure is a collection of data values, the relationships among them, and the functions or operations that can be applied to the data."
   ]
  },
  {
   "cell_type": "markdown",
   "metadata": {},
   "source": [
    "### What is a probabilistic data structure?\n",
    "Probabilistic data structures are a group of data structures that are extremely useful for big data and streaming applications. Generally speaking, these data structures use hash functions to randomize and compactly represent a set of items. Collisions are ignored but errors can be well-controlled under certain threshold. Comparing with error-free approaches, these algorithms use much less memory and have constant query time. They usually support union and intersection operations and therefore can be easily parallelized."
   ]
  },
  {
   "cell_type": "markdown",
   "metadata": {},
   "source": [
    "#### What advantages do these structures provide?\n",
    "Probabilistic data structures can't give you a definite answer, instead they provide you with a reasonable approximation of the answer and a way to approximate this estimation. They are extremely useful for big data and streaming application because they allow to dramatically decrease the amount of memory needed (in comparison to data structures that give you exact answers).\n",
    "\n",
    "In majority of the cases these data structures use hash functions to randomize the items. Because they ignore collisions they keep the size constant, but this is also a reason why they can't give you exact values. The advantages they bring:\n",
    "\n",
    "- they use small amount of memory (you can control how much)\n",
    "- they can be easily parallelizable (hashes are independent)\n",
    "- they have constant query time (not even amortized constant like in dictionary)"
   ]
  },
  {
   "cell_type": "markdown",
   "metadata": {},
   "source": [
    "### Bloom Filter\n",
    "The Bloom filter is a space-efficient probabilistic data structure that is used to test whether an element is a member of a set.  The price we pay for efficiency is that it is probabilistic in nature that means, there might be some False Positive results. False positive means, it might tell that given username is already taken but actually it’s not. Bloom filters are both fast and space-efficient. However, elements can only be added, not removed.\n",
    "\n",
    "For example, checking availability of username is set membership problem, where the set is the list of all registered username.\n",
    "\n",
    "Boom filter requires these three inputs:\n",
    "* m: size of the bit array\n",
    "* n: estimated insertion\n",
    "* p: false positive probability\n",
    "\n",
    "An empty Bloom filter is a bit array of m bits, all set to 0. There are also k different hash functions, each of which maps a set element to one of the m bit positions.\n",
    "* To add an element, feed it to the hash functions to get k bit positions, and set the bits at these positions to 1.\n",
    "* To test if an element is in the set, feed it to the hash functions to get k bit positions.\n",
    "    * If any of the bits at these positions is 0, the element definitely isn’t the set.\n",
    "    * If all are 1, then the element may be in the set.\n",
    "\n",
    "For understanding bloom filters, you must know what is hashing.<br>\n",
    "A hash function takes input and outputs a unique identifier of fixed length which is used for identification of input.<br> \n",
    "A hash function is a function that takes a set of inputs of any arbitrary size and fits them into a table or other data structure that contains fixed-size elements."
   ]
  },
  {
   "cell_type": "markdown",
   "metadata": {},
   "source": [
    "### How does the structure work?\n",
    "First of all an empty bloom filter is a bit array of m bits, all set to zero, like that one:\n",
    "<img src=\"Images/bloom_filter1.png\">\n",
    "We need k number of hash functions to calculate the hashes for a given input. When we want to add an item in the filter, the bits at k indices h1(x), h2(x), … hk(x) are set, where indices are calculated using hash functions. Example – Suppose we want to enter “geeks” in the filter, we are using 3 hash functions and a bit array of length 10, all set to 0 initially. First we’ll calculate the hashes as following :\n",
    "\n",
    "<br><center>h1(\"geeks\") % 10 = 1 <br>\n",
    "h1(\"geeks\") % 10 = 4 <br>\n",
    "h1(\"geeks\") % 10 = 7</center><br>\n",
    "\n",
    "Now we are going to set the indexes on positions 1, 4 and 7 to 1.<br>\n",
    "<img src=\"Images/bloom_filter2.png\">\n",
    "\n",
    "And if we want to enter a word, for example. First we will calculate the hashes.\n",
    "\n",
    "<br><center>h1(“nerd”) % 10 = 3<br>\n",
    "h2(“nerd”) % 10 = 5<br>\n",
    "h3(“nerd”) % 10 = 4</center>\n",
    "\n",
    "So we will set the indexes on positions 3, 5 and 4 to 1.<br>\n",
    "<img src=\"Images/bloom_filter3.png\">\n",
    "\n",
    "Now if we want to check “geeks” is present in filter or not. We’ll do the same process but this time in reverse order. We calculate respective hashes using h1, h2 and h3 and check if all these indices are set to 1 in the bit array. If all the bits are set then we can say that “geeks” is probably present. If any of the bit at these indices are 0 then “geeks” is definitely not present.\n",
    "\n",
    "But why do we called it probably present. Isn't it uncertain? Let's suppose we want to check whether “cat” is present or not. We’ll calculate hashes using h1, h2 and h3.\n",
    "\n",
    "<center>h1(“cat”) % 10 = 1<br>\n",
    "h2(“cat”) % 10 = 3<br>\n",
    "h3(“cat”) % 10 = 7</center>\n",
    "\n",
    "If we check the bit array, bits at these indices are set to 1 but we know that “cat” was never added to the filter. Bit at index 1 and 7 was set when we added “geeks” and bit 3 was set we added “nerd”.\n",
    "<img src=\"Images/bloom_filter4.png\">\n",
    "\n",
    "So, because bits at calculated indices are already set by some other item, bloom filter erroneously claim that “cat” is present and generating a false positive result. Depending on the application, it could be huge downside or relatively okay.\n",
    "We can control the probability of getting a false positive by controlling the size of the Bloom filter. More space means fewer false positives. If we want decrease probability of false positive result, we have to use more number of hash functions and larger bit array. This would add latency in addition of item and checking membership. "
   ]
  },
  {
   "cell_type": "markdown",
   "metadata": {},
   "source": [
    "#### What operations can be done?\n",
    "Operations that a Bloom Filter supports  \n",
    "\n",
    "* insert(x) : To insert an element in the Bloom Filter.\n",
    "* lookup(x) : to check whether an element is already present in Bloom Filter with a positive false probability."
   ]
  },
  {
   "cell_type": "code",
   "execution_count": null,
   "metadata": {},
   "outputs": [],
   "source": []
  },
  {
   "cell_type": "code",
   "execution_count": null,
   "metadata": {},
   "outputs": [],
   "source": []
  },
  {
   "cell_type": "code",
   "execution_count": null,
   "metadata": {},
   "outputs": [],
   "source": []
  },
  {
   "cell_type": "code",
   "execution_count": 4,
   "metadata": {},
   "outputs": [
    {
     "name": "stdout",
     "output_type": "stream",
     "text": [
      "Size of bit array: 124\n",
      "False positive Probability: 0.05 %\n",
      "Number of hash functions: 4\n",
      "\n",
      "'abundance' is probably present!\n",
      "'humanity' is definitely not present!\n",
      "'nuke' is definitely not present!\n",
      "'hurt' is definitely not present!\n",
      "'generosity' is probably present!\n",
      "'twitter' is a false positive!\n",
      "'comely' is probably present!\n",
      "'abound' is probably present!\n",
      "'cohesive' is probably present!\n",
      "'coherent' is probably present!\n",
      "'abundant' is probably present!\n",
      "'bluff' is definitely not present!\n",
      "'bonuses' is probably present!\n",
      "'comfort' is probably present!\n",
      "'facebook' is definitely not present!\n",
      "'generously' is probably present!\n",
      "'cheater' is definitely not present!\n",
      "'geeksforgeeks' is definitely not present!\n",
      "'gloomy' is definitely not present!\n",
      "'hate' is definitely not present!\n",
      "'racism' is definitely not present!\n",
      "'war' is definitely not present!\n"
     ]
    }
   ],
   "source": [
    "n = 20 # no of items to add\n",
    "p = 0.05 # false positive probability\n",
    "\n",
    "bloomf = BloomFilter(n,p)\n",
    "print(f\"Size of bit array: {bloomf.size}\")\n",
    "print(f\"False positive Probability: {bloomf.fp_prob} %\")\n",
    "print(f\"Number of hash functions: {bloomf.hash_count}\\n\")\n",
    "\n",
    "# words to be added\n",
    "word_present = ['abound','abounds','abundance','abundant','accessable',\n",
    "\t\t\t\t'bloom','blossom','bolster','bonny','bonus','bonuses',\n",
    "\t\t\t\t'coherent','cohesive','colorful','comely','comfort',\n",
    "\t\t\t\t'gems','generosity','generous','generously','genial']\n",
    "\n",
    "# word_present = ['geeks', 'nerd', 'cat']\n",
    "\n",
    "# word not added\n",
    "word_absent = ['bluff','cheater','hate','war','humanity',\n",
    "\t\t\t'racism','hurt','nuke','gloomy','facebook',\n",
    "\t\t\t'geeksforgeeks','twitter']\n",
    "\n",
    "for item in word_present:\n",
    "\tbloomf.add(item)\n",
    "\n",
    "shuffle(word_present)\n",
    "shuffle(word_absent)\n",
    "\n",
    "test_words = word_present[:10] + word_absent\n",
    "shuffle(test_words)\n",
    "for word in test_words:\n",
    "\tif bloomf.check(word):\n",
    "\t\tif word in word_absent:\n",
    "\t\t\tprint(\"'{}' is a false positive!\".format(word))\n",
    "\t\telse:\n",
    "\t\t\tprint(\"'{}' is probably present!\".format(word))\n",
    "\telse:\n",
    "\t\tprint(\"'{}' is definitely not present!\".format(word))"
   ]
  },
  {
   "cell_type": "code",
   "execution_count": null,
   "metadata": {},
   "outputs": [],
   "source": []
  }
 ],
 "metadata": {
  "kernelspec": {
   "display_name": "Python 3",
   "language": "python",
   "name": "python3"
  },
  "language_info": {
   "codemirror_mode": {
    "name": "ipython",
    "version": 3
   },
   "file_extension": ".py",
   "mimetype": "text/x-python",
   "name": "python",
   "nbconvert_exporter": "python",
   "pygments_lexer": "ipython3",
   "version": "3.8.5"
  }
 },
 "nbformat": 4,
 "nbformat_minor": 4
}
