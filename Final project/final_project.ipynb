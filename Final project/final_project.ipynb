{
 "cells": [
  {
   "cell_type": "code",
   "execution_count": 1,
   "metadata": {
    "scrolled": false
   },
   "outputs": [],
   "source": [
    "import sys\n",
    "import time\n",
    "import matplotlib.pyplot as plt\n",
    "from random import shuffle\n",
    "from skip_list import SkipList\n",
    "from bloom_filter import BloomFilter"
   ]
  },
  {
   "cell_type": "markdown",
   "metadata": {},
   "source": [
    "# Probabilistic data structures\n",
    "## Kaloyan Kulov\n",
    "### Final project"
   ]
  },
  {
   "cell_type": "markdown",
   "metadata": {},
   "source": [
    "Before we start talking about probabilistic data structure, we need to understand what is a data structure.\n",
    "## What is data structure?\n",
    "In computer science, a data structure is a specialized format for organizing, processing, retrieving and storing data. There are several types of data structures, which are designed to arrange data to suit a specific purpose."
   ]
  },
  {
   "cell_type": "markdown",
   "metadata": {},
   "source": [
    "And after we understood what is a data structure, let's figure out what is a probabilistic data structure.\n",
    "## What is a probabilistic data structure?\n",
    "The simple answer to this question is that probabilistic data structures provide us with an approximate solution, which may or may not be the exact answer, but it's close to the real one. They rely on some form of probablity such as using randomness, hasing, and etc to reach that approximate solution also they are proven to use either a fixed or sublinear memory and have constant execution time."
   ]
  },
  {
   "cell_type": "markdown",
   "metadata": {},
   "source": [
    "But what makes probabilistic data structures so special, what are their advantages?\n",
    "### What advantages do these structures provide?\n",
    "Because of their probabilsitc behaviour and the fact that they don't give you an exact answer, instead they provide you with a reasonable approximation of the it and a way to approximate this estimation, that's why they are extremely useful for big data and streaming application because they allow to dramatically decrease the amount of memory needed (in comparison to data structures that give you exact answers). Another advantage is that, these algorithms use much less memory and have constant query time and usually support union and intersection operations, so they can be easily parallelized.\n",
    "\n",
    "In many cases these data structures are using hash functions to randomize the items, because they ignore collisions, they keep the size constant, but this is also the reason, why they can't give you exact values. \n",
    "\n",
    "So the main advantages of using probabilistic data structures are that:\n",
    "- they use small amount of memory (you can control how much)\n",
    "- they can be easily parallelizable (hashes are independent)\n",
    "- they have constant query time (not even amortized constant like in dictionary)"
   ]
  },
  {
   "cell_type": "markdown",
   "metadata": {},
   "source": [
    "The first probabilistic data structure, that I will talk about is bloom filter.\n",
    "## Bloom Filter\n",
    "The Bloom filter is a space-efficient probabilistic data structure that is used to test whether an element is a member of a set. The price we pay for efficiency is that it is probabilistic in nature, that means, there might be some False Positive results. \n",
    "\n",
    "### What is a False Positve?\n",
    "There are some cases, where two element could refer to the same array position. In those cases the second item doesn't change it array position value, but the first item would have set its value as 1. Therefore in these cases even if the element isn't presented in the set, its existence is returned as 1. For example, it might tell that given username is already taken but actually it’s not.\n",
    "\n",
    "Bloom filters are both fast and space-efficient. However, elements can only be added, not removed. For example, checking availability of username is set membership problem, where the set is the list of all registered username.\n",
    "\n",
    "To work with a bloom filter, you need to provide him with these three inputs:\n",
    "* m: size of the bit array\n",
    "* n: estimated insertion\n",
    "* p: false positive probability\n",
    "\n",
    "To understand bloom filters better, you must know what is hashing.\n",
    "### What is a Hashing?\n",
    "A hash function takes input and outputs a unique identifier of fixed length which is used for identification of input.It is a function that takes a set of inputs of any arbitrary size and fits them into a table or other data structure that contains fixed-size elements."
   ]
  },
  {
   "cell_type": "markdown",
   "metadata": {},
   "source": [
    "### How does the structure work?\n",
    "In general, we start with an empty bloom filter, which is a bit array of m bits, all set to 0. There are also k different hash functions, each of which maps a set element to one of the m bit positions.\n",
    "* To add an element, feed it to the hash functions to get k bit positions, and set the bits at these positions to 1.\n",
    "* To test if an element is in the set, feed it to the hash functions to get k bit positions.\n",
    "    * If any of the bits at these positions is 0, the element definitely isn’t the set.\n",
    "    * If all are 1, then the element may be in the set.\n",
    "\n",
    "To illustrate it more clearlu, I will demonstrate an example below.\n",
    "\n",
    "#### Example\n",
    "First of all an empty bloom filter is a bit array of m bits, all set to zero, like these one:\n",
    "\n",
    "<img style=\"width:50%;\" src=\"Images/bloom_filter1.png\">\n",
    "\n",
    "For us, to calculate the hashes for a given input, we will need **k** number of hash functions.When we want to add an item in the filter, the bits at **k** indexes h1(x), h2(x), … hk(x) are set, where indexes are calculated using hash functions. For example, let's suppose we want to enter the word **“geeks”** in the filter. We are using **3** hash functions and a bit array of length **10**, all set to **0** initially. First we’ll calculate the hashes as following:<br><br>\n",
    "\n",
    "<center>\n",
    "    <b>\n",
    "    h1(\"geeks\") % 10 = 1 <br>\n",
    "    h1(\"geeks\") % 10 = 4 <br>\n",
    "    h1(\"geeks\") % 10 = 7 <br>\n",
    "    </b>\n",
    "</center>\n",
    "\n",
    "Now we are going to set the elements on **positions 1**, **4** and **7** to **1**.\n",
    "\n",
    "<img style=\"width:50%;\" src=\"Images/bloom_filter2.png\">\n",
    "\n",
    "And if we want to enter a word. First we will calculate the hashes.<br><br>\n",
    "\n",
    "<center>\n",
    "    <b>\n",
    "    h1(“nerd”) % 10 = 3 <br>\n",
    "    h2(“nerd”) % 10 = 5 <br>\n",
    "    h3(“nerd”) % 10 = 4 <br>\n",
    "    </b>\n",
    "</center>\n",
    "\n",
    "So we will set the indexes on **positions 3**, **5** and **4** to **1**.\n",
    "\n",
    "<img style=\"width:50%;\" src=\"Images/bloom_filter3.png\">\n",
    "\n",
    "And if we want to check if **“geeks”** is present in filter or not. We’ll do the same process but this time in **reverse order**. We calculate respective hashes using h1, h2 and h3 and check if all these indexes are set to **1** in the bit array. If all the bits are set then we can say that “geeks” **is probably present**. If any of the bit at these indexes are **0** then “geeks” **is definitely not present**.\n",
    "\n",
    "But why do we called it probably present. Is it uncertain? Let's suppose we want to check whether “cat” is present or not. We’ll calculate hashes using h1, h2 and h3.\n",
    "\n",
    "<center>\n",
    "    <b>\n",
    "    h1(“cat”) % 10 = 1 <br>\n",
    "    h2(“cat”) % 10 = 3 <br>\n",
    "    h3(“cat”) % 10 = 7 <br>\n",
    "    </b>\n",
    "</center>\n",
    "\n",
    "If we check the bit array, bits at these indexes are set to 1 but we know that “cat” was never added to the filter. Bit at index 1 and 7 was set when we added “geeks” and bit 3 was set, when we added “nerd”.\n",
    "\n",
    "<img style=\"width:50%;\" src=\"Images/bloom_filter4.png\">\n",
    "\n",
    "So, because bits at calculated indexes are already set by some other item, bloom filter erroneously claim that “cat” is present and generating a false positive result. Depending on the application, it could be huge downside or relatively okay.\n",
    "\n",
    "We can control the probability of getting a false positive by controlling the size of the Bloom filter. More space means fewer false positives. If we want to decrease the probability of false positive result, we have to use more number of hash functions and larger bit array. This would add latency in addition of item and checking membership. \n",
    "\n",
    "Now, let's see below, how is the bloom filter implemented in Python.\n",
    "#### Python implementation"
   ]
  },
  {
   "cell_type": "code",
   "execution_count": 8,
   "metadata": {},
   "outputs": [
    {
     "name": "stdout",
     "output_type": "stream",
     "text": [
      "Size of bit array: 72\n",
      "False positive Probability: 0.5 %\n",
      "Number of hash functions: 0\n",
      "\n",
      "comely is probably present!\n",
      "bonus is probably present!\n",
      "Java is a false positive!\n",
      "Thor is a false positive!\n",
      "asd is a false positive!\n",
      "InceptionFalcon is a false positive!\n",
      "cohesive is probably present!\n",
      "bonuses is probably present!\n",
      "Captain America is a false positive!\n",
      "bolster is probably present!\n",
      "colorful is probably present!\n",
      "Iron Man is a false positive!\n",
      "bonny is probably present!\n",
      "gems is probably present!\n",
      "Black Widow is a false positive!\n",
      "twitter is a false positive!\n",
      "Rick is a false positive!\n",
      "bluff is a false positive!\n",
      "war is a false positive!\n",
      "hurt is a false positive!\n",
      "car is a false positive!\n",
      "humanity is a false positive!\n",
      "geeksforgeeks is a false positive!\n",
      "nuke is a false positive!\n",
      "facebook is a false positive!\n",
      "generously is probably present!\n",
      "abound is probably present!\n",
      "asdfhgdsfhg is a false positive!\n"
     ]
    }
   ],
   "source": [
    "n = 50 # number of items, that we want to add\n",
    "p = 0.5 # false positive probability\n",
    "\n",
    "bloomf = BloomFilter(n,p)\n",
    "print(bloomf)\n",
    "\n",
    "word_absent = ['bluff', 'Iron Man', 'car', 'Captain America', 'war', 'Thor', 'humanity',\n",
    "               'Black Widow', 'hurt', 'nuke', 'facebook', 'geeksforgeeks','twitter', 'Inception'\n",
    "                'Falcon', \"Rick\", \"Java\", \"asd\", \"asdfhgdsfhg\"]\n",
    "\n",
    "word_present = ['abound','abounds','abundance','abundant','accessable', 'bloom','blossom','bolster',\n",
    "                'bonny','bonus', 'bonuses', 'coherent','cohesive','colorful','comely','comfort',\n",
    "                'gems','generosity','generous','generously','genial']\n",
    "\n",
    "bloomf.add_items_from_list(word_present)\n",
    "# test_words = word_present[:10] + word_absent\n",
    "# bloomf.check_items_from_list(test_words)\n",
    "\n",
    "shuffle(word_present)\n",
    "shuffle(word_absent)\n",
    "\n",
    "test_words = word_present[:10] + word_absent\n",
    "shuffle(test_words)\n",
    "for word in test_words:\n",
    "\tif bloomf.check(word):\n",
    "\t\tif word in word_absent:\n",
    "\t\t\tprint(f\"{word} is a false positive!\")\n",
    "\t\telse:\n",
    "\t\t\tprint(f\"{word} is probably present!\")\n",
    "\telse:\n",
    "\t\tprint(f\"{word} is definitely not present!\")\n"
   ]
  },
  {
   "cell_type": "markdown",
   "metadata": {},
   "source": [
    "Okay, now we know what is a bloom filter and how it works, but do we know what operations could we do with it?\n",
    "### What operations can be done?\n",
    "Operations that a Bloom Filter supports are:\n",
    "\n",
    "* add(x) : inserts an element into the Bloom Filter.\n",
    "* check(x) : checks whether an element is already present in the Bloom Filter with a positive false probability."
   ]
  },
  {
   "cell_type": "markdown",
   "metadata": {},
   "source": [
    "We know what is false positive probability, but do we know how to calculate it?\n",
    "### Probability of False positivity formula\n",
    "To calculate the **Probability of False positive**, marked with p, we need:\n",
    "* m - size of bit array\n",
    "* k - number of hash functions\n",
    "* n - number of expected elements to be inserted in the Bloom Filter\n",
    "\n",
    "We will mark false positive probability with p and can calculate it as:\n",
    "\n",
    "$$P = (1 - [1 - \\frac{1}{m}]^{kn})^k$$"
   ]
  },
  {
   "cell_type": "markdown",
   "metadata": {},
   "source": [
    "Another interesting thing is how we calculate the size of bit the bit array.\n",
    "### Size of Bit Array formula\n",
    "To calculate the size of the bit array(**m**) we need:\n",
    "* n - number of expected elements to be inserted in the Bloom Filter\n",
    "* p - false positive probability\n",
    "\n",
    "We can calculate **m** with the formula:\n",
    "\n",
    "$$m = \\frac{n\\ln{P}}{(\\ln2)^2}$$"
   ]
  },
  {
   "cell_type": "markdown",
   "metadata": {},
   "source": [
    "One last thing, we need to consider is what is the most optimum number of hash functions and how do we calculate it?\n",
    "### Number of hash functions formula\n",
    "To calculate the most optimum number of hash functions(**k**), we will need:\n",
    "* m - size of bit array\n",
    "* n - number of expected elements to be inserted in the Bloom Filter\n",
    "\n",
    "We'll be calculating **k** as:\n",
    "\n",
    "$$k = \\frac{m}{n}\\ln{2}$$"
   ]
  },
  {
   "cell_type": "markdown",
   "metadata": {},
   "source": [
    "Let's see how is the bloom filter performing.\n",
    "### Blooms' Filter performance\n",
    "A Bloom filter with one hash function is equivalent to ordinary hashing. Bloom filter is a generalization of hashing. It allows for more interesting design tradeoffs. The complexity to add an element or to query the filter is fixed. In other words, it's independent of how many items have been added to the filter. Bloom filter simplifies some operations. Suppose we have two filters to represents sets S1 and S2. The union of the these two sets is simply an OR operation of the two filters. Intersection of the two sets can also be approximated with the filters. Another trick is to half the size of the filter with an OR operation of the first and second halves of the filter.\n",
    "\n",
    "#### Space advantages\n",
    "Bloom filter have a spectacular space advantage over other data strucuture for representing sets, such as self-balancing binary search trees, tries, hash tables, or simple arrays or linked lists of the entries. Most of these data structures are storing at least the data items in themselves, but bloom filter don't store the data items at all. For example linked data structures require additional space, where a bloom filter with 1% error and k optimal value, need only 9.6 bits per element, regardless the size of the element. This advantage of the bloom filter is partly inherited from the arrays and from its probabilistic nature.\n",
    "\n",
    "Anyway, if the number of potential values is small, the Bloom filter is easily surpassed by the deterministic bit array, which requires only one bit for each potential element. Hash tables gain a space and time advantage if they begin ignoring collisions and store only whether each bucket contains an value, in this case, they have effectively become Bloom filters with k = 1.\n",
    "\n",
    "Let's check how much space bloom filter needs, in comparison to a normal list."
   ]
  },
  {
   "cell_type": "code",
   "execution_count": 187,
   "metadata": {},
   "outputs": [
    {
     "data": {
      "image/png": "[encoded data removed]",
      "text/plain": [
       "<Figure size 432x288 with 1 Axes>"
      ]
     },
     "metadata": {
      "needs_background": "light"
     },
     "output_type": "display_data"
    }
   ],
   "source": [
    "word_present = ['abound','abounds','abundance','abundant','accessable', 'bloom','blossom',\n",
    "                'bolster','bonny','bonus','bonuses','coherent','cohesive','colorful','comely',\n",
    "                'comfort','gems','generosity','generous','generously','genial']\n",
    "\n",
    "bloomf.plot_sizeof_data_structures_compared_to_a_normal_list(word_present)"
   ]
  },
  {
   "cell_type": "markdown",
   "metadata": {},
   "source": [
    "#### Time advantages\n",
    "Bloom filters also have the unusual property that the time needed either to add items or to check whether an item is in the set is a fixed constant (O(k)) completely independent of the number of items already in the set. No other constant-space set data structure has this property, but the average access time of sparse hash tables can make them faster in practice than some Bloom filters. In a hardware implementation, however, the Bloom filter shines because its k lookups are independent and can be parallelized.\n",
    "\n",
    "To understand its space efficiency, it is instructive to compare the general Bloom filter with its special case when k = 1. If k = 1, then in order to keep the false positive rate sufficiently low, a small fraction of bits should be set, which means the array must be very large and contain long runs of zeros. The information content of the array relative to its size is low. The generalized Bloom filter (k greater than 1) allows many more bits to be set while still maintaining a low false positive rate, if the parameters (k and m) are chosen well, about half of the bits will be set, and these will be apparently random, minimizing redundancy and maximizing information content.\n",
    "\n",
    "<img src=\"Images/bloom_filter5.PNG\">"
   ]
  },
  {
   "cell_type": "code",
   "execution_count": 179,
   "metadata": {},
   "outputs": [
    {
     "name": "stdout",
     "output_type": "stream",
     "text": [
      "Bloom filter: 0.0005544000000554661\n",
      "Normal list: 0.00017740000021149172\n"
     ]
    }
   ],
   "source": [
    "n = 100000\n",
    "p = 0.5\n",
    "\n",
    "bloomf = BloomFilter(n,p)\n",
    "test_list = []\n",
    "\n",
    "start = time.perf_counter()\n",
    "[bloomf.add(x) for x in range(-100, 1000, 1)]\n",
    "end = time.perf_counter()\n",
    "bloom_filter_time = end - start\n",
    "\n",
    "start = time.perf_counter()\n",
    "[test_list.append(x) for x in range(-100, 1000, 1)]\n",
    "end = time.perf_counter()\n",
    "list_time = end - start\n",
    "\n",
    "print(f\"Bloom filter: {bloom_filter_time}\")\n",
    "print(f\"Normal list: {list_time}\")"
   ]
  },
  {
   "cell_type": "markdown",
   "metadata": {},
   "source": [
    "Finally, let's compare bloom filter to another non-probabilistic data structure.\n",
    "### Comparing Bloom Filter with another non-probabilistic data structure\n",
    "I chose to compare the Bloom Filter with HashTable\n",
    "\n",
    "HashTable is a data strucuture, which stores key-value pairs (like dicitionaries in python). The way it works is that the key is sent to a hash function, which performs arithhmetic operations on it and after that they return the hash value, which is used as the index for accessing the key-value pair in the hash table.\n",
    "\n",
    "1. How they store objects?\n",
    "    * HashTable store objects by their index.\n",
    "    * Bloom Filter don't store the objects. He tells only if the object is present or not.\n",
    "2. How much space do they take?\n",
    "    * Because of the fact that all string must map to ceratin location, HashTables are less space efficient.\n",
    "    * Because Bloom Filters are just an arrays of 0s and 1s, they are more space efficient.\n",
    "3. How accurate are they?\n",
    "    * HashTables give more accurate results.\n",
    "    * Bloom Filters have small false positive probability.\n",
    "4. Do they support deletion operations?\n",
    "    * HashTables support deletion, as they mark the object location as NULL. \n",
    "    * Bloom Filters don't support deletion. If you want to delete an item, you need to restart the filter.\n",
    "5. How do they deal with collisions?\n",
    "    * HashTables have to minimize the collisions, so you must choose multiple hashes or a strong hash.\n",
    "    * There is no need to handle collisions, as the Bloom Filter is using many hash functions.\n",
    "6. What are they used for?\n",
    "    * Hashmaps are used in compiler operations, programming languages(hash table based data structures),password verification, etc.\n",
    "    * Bloom Filters have application in network routers, in web browsers(detecting malicious URLs),in existing username checkers, in password checkers etc."
   ]
  },
  {
   "cell_type": "markdown",
   "metadata": {},
   "source": [
    "Oops, let's not forget about the bloom filter's application.\n",
    "### Bloom Filter application\n",
    "Bloom filter has a large number of applications:\n",
    "* Weak password detection\n",
    "* Internet Cache Protocol\n",
    "* Safe browsing in Google Chrome\n",
    "* Wallet synchronization in Bitcoin\n",
    "* Hash based IP Traceback\n",
    "* Cyber security like virus scanning"
   ]
  },
  {
   "cell_type": "markdown",
   "metadata": {},
   "source": [
    "The second probabilistic data structure, which I am going to talk about is the skip list.\n",
    "## Skip List"
   ]
  },
  {
   "cell_type": "markdown",
   "metadata": {},
   "source": [
    "Let's see what is a skip list.\n",
    "### What is a Skip List?\n",
    "The skip list is a probabilisitc data structure, which is built upon the general idea of a linked list. It is build in layers. \n",
    "\n",
    "The skip list uses probability to build subsequent layers of linked lists upon an original linked list. Each additional layer of links contains fewer elements, but no new elements."
   ]
  },
  {
   "cell_type": "markdown",
   "metadata": {},
   "source": [
    "### What is the structure of the Skip List?\n",
    "\n",
    "A skip list starts with a basic, ordered, linked list. This list is sorted, but we can't do a binary search on it because it is a linked list and we cannot index into it. But the ordering will come in handy later.\n",
    "\n",
    "It is built in two layers: \n",
    "* The lowest layer\n",
    "* Top layer.\n",
    "\n",
    "The bottom layer is an ordinary ordered linked list and each higher layer acts as an \"express lane\" for the lists below, where an element in layer n appears in layer n + 1 with some fixed probability p. This probability can vary, but oftentimes 1/2 is used. Additionally, the first node in the linked list is often always kept, as a header for the new layer. On average, each element appears in 1/(1-p) lists, and the tallest element (usually a special head element at the front of the skip list) in all the lists. The skip list contains \\log _{1/p}n (i.e. logarithm base 1/p of n) lists.\n",
    "\n",
    "Take a look at the following graphics and see how some elements are kept but others are discarded. Here, it just so happened that half of the elements are kept in each new layer, but it could be more or less--it's all probabilistic. In all cases, each new layer is still ordered.\n",
    "\n",
    "<img style=\"width:50%;\" src=\"Images/skip_list1.png\">"
   ]
  },
  {
   "cell_type": "markdown",
   "metadata": {},
   "source": [
    "### Working with Skip List\n",
    "The idea is simple, we create multiple layers so that we can skip some nodes. The lower layer is a common line that links all nodes, and the top layer is an express line that links only the main nodes. If you search for a number (n), you will start from the first node of the express line and continue running on the express line until you find a node that is equl or more than n, when you find that node you will go to the normal line and search again for n. \n",
    "\n",
    "Let's take an example to understand the working of the skip list, see the picture below, a list with 16 nodes and two layers. The upper layer works as an “express lane” which connects only main outer stations, and the lower layer works as a “normal lane” which connects every station. Let's suppose, that we want to search for 50, we start from the first node of “express lane” and keep moving on “express lane” till we find a node whose next is greater than 50. Once we find such a node (30 is the node in following example) on “express lane”, we move to “normal lane” using pointer from this node, and linearly search for 50 on “normal lane”. In following example, we start from 30 on “normal lane” and with linear search, we find 50.\n",
    "\n",
    "<img style=\"width:50%;\" src=\"Images/skip_list4.PNG\">\n",
    "\n",
    "Now, let's see below, how is the skip list implemented in Python.\n",
    "#### Python implementation"
   ]
  },
  {
   "cell_type": "code",
   "execution_count": 2,
   "metadata": {},
   "outputs": [
    {
     "name": "stdout",
     "output_type": "stream",
     "text": [
      "Successfully inserted key 1\n",
      "Successfully inserted key 2\n",
      "Successfully inserted key 3\n",
      "Successfully inserted key 4\n",
      "Successfully inserted key 5\n",
      "Successfully inserted key 6\n",
      "Successfully inserted key 7\n",
      "Successfully inserted key 8\n",
      "Successfully inserted key 9\n",
      "Successfully inserted key 10\n",
      "Successfully inserted key 11\n",
      "Successfully inserted key 12\n",
      "Successfully inserted key 13\n",
      "Successfully inserted key 14\n",
      "Successfully inserted key 15\n",
      "Successfully inserted key 16\n",
      "Successfully inserted key 17\n",
      "Successfully inserted key 18\n",
      "Successfully inserted key 19\n",
      "Successfully inserted key 20\n",
      "\n",
      "*****Skip List******\n",
      "Level 0:  1 2 3 4 5 6 7 8 9 10 11 12 13 14 15 16 17 18 19 20 \n",
      "Level 1:  1 2 3 4 7 9 13 14 16 17 18 19 20 \n",
      "Level 2:  1 2 7 13 14 16 18 \n",
      "Level 3:  1 13 14 16 18 \n"
     ]
    }
   ],
   "source": [
    "skip_list = SkipList(3, 0.5)\n",
    "\n",
    "for item in range(1, 21, 1):\n",
    "    skip_list.insertElement(item)\n",
    "\n",
    "skip_list.displayList()"
   ]
  },
  {
   "cell_type": "markdown",
   "metadata": {},
   "source": [
    "### Deciding nodes level\n",
    "While inserting an element in the list, it is represented by a node, which is chosen randomly. The level doesn't depend on the number of elements in the node. Also another important term is max level, which is the upper bound on number of levels of the skip list. It could be calculated as:\n",
    "$$L(N)=\\log_{p/2}N$$\n",
    "\n",
    "Here is the python implementation of choosing the random level."
   ]
  },
  {
   "cell_type": "code",
   "execution_count": 1,
   "metadata": {},
   "outputs": [],
   "source": [
    "def choosingRandomLevel(fraction, max_level):\n",
    "    level = 0\n",
    "    # fraction is the fraction of the nodes with level\n",
    "    # max_level is the maximum level for this skip list\n",
    "    while random.random() < fraction and lvl < max_level:lvl += 1\n",
    "    return lvl"
   ]
  },
  {
   "cell_type": "markdown",
   "metadata": {},
   "source": [
    "### Node structure\n",
    "Each node carries a key and a forward array carrying pointers to nodes of a different level. A level i node carries i forward pointers indexed through 0 to i.\n",
    "\n",
    "<img style=\"width:50%;\" src=\"Images/skip_list2.PNG\">\n",
    "\n",
    "### Insertion\n",
    "The idea of inserting elements into the list is simple, we are going to start from highest level in the list and compare key of next node of the current node with the key to be inserted. Basically the idea:\n",
    "1. Key of next node is less than key to be inserted then we keep on moving forward on the same level\n",
    "2. Key of next node is greater than the key to be inserted then we store the pointer to current node i at update[i] and move one level down and continue our search.\n",
    "\n",
    "We will definitely find a position to insert the given key, at level 0.\n",
    "\n",
    "Here update[i] holds the pointer to node at level i from which we moved down to level i-1 and pointer of node left to insertion position at level 0. Consider this example where we want to insert key 17. \n",
    "\n",
    "<img style=\"width:50%;\" src=\"Images/skip_list3.PNG\">\n",
    "\n",
    "### What operations skip list supports?\n",
    "* insertElement(x): inserts an element into the Skip List.\n",
    "* deleteElement(x): deletes an element\n",
    "* searchElement(x): searches element in the Skip List."
   ]
  },
  {
   "cell_type": "code",
   "execution_count": 5,
   "metadata": {},
   "outputs": [
    {
     "name": "stdout",
     "output_type": "stream",
     "text": [
      "Found key  19\n",
      "Successfully deleted 19\n"
     ]
    }
   ],
   "source": [
    "skip_list.searchElement(19)\n",
    "skip_list.deleteElement(19)"
   ]
  },
  {
   "cell_type": "markdown",
   "metadata": {},
   "source": [
    "### 13. Probabilistic Data Structures\n",
    "A very interesting application of probability in computer science is a kind of data structures which have a probabilistic behaviour. Examples of these are **Bloom filter**, **Skip list**, **Count-min sketch** and **HyperLogLog**.\n",
    "\n",
    "Research how one of these structures works. Or write about many of them, if you wish. You can use the following checklist as a guide: \n",
    "* ~~What is a data structure?~~\n",
    "* ~~What is a probabilistic data structure?~~\n",
    "    * Where does the probabilistic behaviour emerge?\n",
    "    * ~~What advantages do these structures provide?~~\n",
    "* ~~For your chosen structure, how is it constructed?~~\n",
    "    * ~~What parts do you need? What are the details?~~\n",
    "* ~~How does the structure work?~~\n",
    "    * ~~What operations can you do?~~\n",
    "    * What are the typical probabilities associated with these operations?\n",
    "* Analyze the structure\n",
    "    * Analyze the runtimes for all operations\n",
    "    * Analyze the space usage\n",
    "    * Compare to a similar, non-probabilistic data structure\n",
    "    * What advantages does the new data structure have? What drawbacks do you need to be aware of?\n",
    "* Give at least one example where this structure is useful\n",
    "    * E.g. Bloom filter - spell checkers\n",
    "    * Analyze the use case\n",
    "    * If possible, implement the use case\n",
    "    * Display some metrics (e.g. % conserved space, % reduced time)"
   ]
  }
 ],
 "metadata": {
  "kernelspec": {
   "display_name": "Python 3",
   "language": "python",
   "name": "python3"
  },
  "language_info": {
   "codemirror_mode": {
    "name": "ipython",
    "version": 3
   },
   "file_extension": ".py",
   "mimetype": "text/x-python",
   "name": "python",
   "nbconvert_exporter": "python",
   "pygments_lexer": "ipython3",
   "version": "3.8.5"
  }
 },
 "nbformat": 4,
 "nbformat_minor": 4
}
