{
 "cells": [
  {
   "cell_type": "code",
   "execution_count": 1,
   "metadata": {
    "scrolled": false
   },
   "outputs": [],
   "source": [
    "from random import shuffle\n",
    "from bloom_filter import BloomFilter\n",
    "from skip_list import SkipList\n",
    "import matplotlib.pyplot as plt\n",
    "import time\n",
    "import sys"
   ]
  },
  {
   "cell_type": "markdown",
   "metadata": {},
   "source": [
    "# Exam\n",
    "## Kaloyan Kulov\n",
    "### Statistics"
   ]
  },
  {
   "cell_type": "markdown",
   "metadata": {},
   "source": [
    "## What is data structure?\n",
    "In computer science, a data structure is a data organization, management, and storage format that enables efficient access and modification. More precisely, a data structure is a collection of data values, the relationships among them, and the functions or operations that can be applied to the data."
   ]
  },
  {
   "cell_type": "markdown",
   "metadata": {},
   "source": [
    "## What is a probabilistic data structure?\n",
    "Probabilistic data structures are a group of data structures that are extremely useful for big data and streaming applications. By using them, we get an approximately solution, which may or may not be the exact answer, but it's close to it. Probablistic data structure will rely on some form of probablity such as using randomness, hasing, and etc to reach an approximate solution also they are proven to use either a fixed or sublinear memory and have constant execution time. Comparing with error-free approaches, these algorithms use much less memory and have constant query time. They usually support union and intersection operations and therefore can be easily parallelized."
   ]
  },
  {
   "cell_type": "markdown",
   "metadata": {},
   "source": [
    "### What advantages do these structures provide?\n",
    "Probabilistic data structures can't give you a definite answer, instead they provide you with a reasonable approximation of the answer and a way to approximate this estimation. They are extremely useful for big data and streaming application because they allow to dramatically decrease the amount of memory needed (in comparison to data structures that give you exact answers).\n",
    "\n",
    "In majority of the cases these data structures use hash functions to randomize the items. Because they ignore collisions they keep the size constant, but this is also a reason why they can't give you exact values. The advantages they bring:\n",
    "\n",
    "- they use small amount of memory (you can control how much)\n",
    "- they can be easily parallelizable (hashes are independent)\n",
    "- they have constant query time (not even amortized constant like in dictionary)"
   ]
  },
  {
   "cell_type": "markdown",
   "metadata": {},
   "source": [
    "## Bloom Filter\n",
    "The Bloom filter is a space-efficient probabilistic data structure that is used to test whether an element is a member of a set.  \n",
    "The price we pay for efficiency is that it is probabilistic in nature that means, there might be some False Positive results. False positive means, it might tell that given username is already taken but actually it’s not. Bloom filters are both fast and space-efficient. However, elements can only be added, not removed.\n",
    "\n",
    "For example, checking availability of username is set membership problem, where the set is the list of all registered username.\n",
    "\n",
    "Boom filter requires these three inputs:\n",
    "* m: size of the bit array\n",
    "* n: estimated insertion\n",
    "* p: false positive probability\n",
    "\n",
    "An empty Bloom filter is a bit array of m bits, all set to 0. There are also k different hash functions, each of which maps a set element to one of the m bit positions.\n",
    "* To add an element, feed it to the hash functions to get k bit positions, and set the bits at these positions to 1.\n",
    "* To test if an element is in the set, feed it to the hash functions to get k bit positions.\n",
    "    * If any of the bits at these positions is 0, the element definitely isn’t the set.\n",
    "    * If all are 1, then the element may be in the set.\n",
    "\n",
    "For understanding bloom filters, you must know what is hashing.<br>\n",
    "A hash function takes input and outputs a unique identifier of fixed length which is used for identification of input.<br> \n",
    "A hash function is a function that takes a set of inputs of any arbitrary size and fits them into a table or other data structure that contains fixed-size elements."
   ]
  },
  {
   "cell_type": "markdown",
   "metadata": {},
   "source": [
    "## How does the structure work?\n",
    "First of all an empty bloom filter is a bit array of m bits, all set to zero, like that one:<br>\n",
    "<img style=\"width:50%;\" src=\"Images/bloom_filter1.png\"><br>\n",
    "For us, to calculate the hashes for a given input, we will need k number of hash functions.When we want to add an item in the filter, the bits at k indices h1(x), h2(x), … hk(x) are set, where indices are calculated using hash functions.<br>\n",
    "For example, let's suppose we want to enter the word “geeks” in the filter. We are using 3 hash functions and a bit array of length 10, all set to 0 initially. First we’ll calculate the hashes as following :<br><br>\n",
    "\n",
    "<center>h1(\"geeks\") % 10 = 1 <br>\n",
    "h1(\"geeks\") % 10 = 4 <br>\n",
    "h1(\"geeks\") % 10 = 7</center><br>\n",
    "\n",
    "Now we are going to set the indexes on positions 1, 4 and 7 to 1.<br>\n",
    "<img style=\"width:50%;\" src=\"Images/bloom_filter2.png\">\n",
    "\n",
    "And if we want to enter a word, for example. First we will calculate the hashes.<br><br>\n",
    "\n",
    "<center>h1(“nerd”) % 10 = 3<br>\n",
    "h2(“nerd”) % 10 = 5<br>\n",
    "h3(“nerd”) % 10 = 4</center><br>\n",
    "\n",
    "So we will set the indexes on positions 3, 5 and 4 to 1.<br>\n",
    "<img style=\"width:50%;\" src=\"Images/bloom_filter3.png\">\n",
    "\n",
    "Now if we want to check “geeks” is present in filter or not. We’ll do the same process but this time in reverse order. We calculate respective hashes using h1, h2 and h3 and check if all these indices are set to 1 in the bit array. If all the bits are set then we can say that “geeks” is probably present. If any of the bit at these indices are 0 then “geeks” is definitely not present.\n",
    "\n",
    "But why do we called it probably present. Isn't it uncertain? Let's suppose we want to check whether “cat” is present or not. We’ll calculate hashes using h1, h2 and h3.\n",
    "\n",
    "<center>h1(“cat”) % 10 = 1<br>\n",
    "h2(“cat”) % 10 = 3<br>\n",
    "h3(“cat”) % 10 = 7</center>\n",
    "\n",
    "If we check the bit array, bits at these indices are set to 1 but we know that “cat” was never added to the filter. Bit at index 1 and 7 was set when we added “geeks” and bit 3 was set we added “nerd”.\n",
    "<img style=\"width:50%;\" src=\"Images/bloom_filter4.png\">\n",
    "\n",
    "So, because bits at calculated indices are already set by some other item, bloom filter erroneously claim that “cat” is present and generating a false positive result. Depending on the application, it could be huge downside or relatively okay.\n",
    "We can control the probability of getting a false positive by controlling the size of the Bloom filter. More space means fewer false positives. If we want decrease probability of false positive result, we have to use more number of hash functions and larger bit array. This would add latency in addition of item and checking membership. "
   ]
  },
  {
   "cell_type": "markdown",
   "metadata": {},
   "source": [
    "### What operations can be done?\n",
    "Operations that a Bloom Filter supports  \n",
    "\n",
    "* add(x) : insert an element into the Bloom Filter.\n",
    "* check(x) : checks whether an element is already present in the Bloom Filter with a positive false probability."
   ]
  },
  {
   "cell_type": "markdown",
   "metadata": {},
   "source": [
    "### Probability of False positivity:\n",
    "To calculate the **Probability of False positive**, marked with p, we need:\n",
    "* m - size of bit array\n",
    "* k - number of hash functions\n",
    "* n - number of expected elements to be inserted in the Bloom Filter\n",
    "\n",
    "We will mark false positive probability with p and can calculate it as:\n",
    "\n",
    "$$P = (1 - [1 - \\frac{1}{m}]^{kn})^k$$"
   ]
  },
  {
   "cell_type": "markdown",
   "metadata": {},
   "source": [
    "### Size of Bit Array\n",
    "To calculate the size of the bit array(**m**) we need:\n",
    "* n - number of expected elements to be inserted in the Bloom Filter\n",
    "* p - false positive probability\n",
    "\n",
    "We can calculate **m** with the formula:\n",
    "\n",
    "$$m = \\frac{n\\ln{P}}{(\\ln2)^2}$$"
   ]
  },
  {
   "cell_type": "markdown",
   "metadata": {},
   "source": [
    "### Number of hash functions\n",
    "To calculate the most optimum number of hash functions(**k**), we will need:\n",
    "* m - size of bit array\n",
    "* n - number of expected elements to be inserted in the Bloom Filter\n",
    "\n",
    "We'll be calculating **k** as:\n",
    "\n",
    "$$k = \\frac{m}{n}\\ln{2}$$"
   ]
  },
  {
   "cell_type": "markdown",
   "metadata": {},
   "source": [
    "## Blooms' Filter performance\n",
    "A Bloom filter with one hash function is equivalent to ordinary hashing. Bloom filter is a generalization of hashing. It allows for more interesting design tradeoffs.\n",
    "The complexity to add an element or to query the filter is fixed at O(k). In other words, it's independent of how many items have been added to the filter.\n",
    "Bloom filter simplifies some operations. Suppose we have two filters to represents sets S1 and S2. The union of the these two sets is simply an OR operation of the two filters. Intersection of the two sets can also be approximated with the filters. Another trick is to half the size of the filter with an OR operation of the first and second halves of the filter."
   ]
  },
  {
   "cell_type": "code",
   "execution_count": 6,
   "metadata": {
    "scrolled": true
   },
   "outputs": [
    {
     "name": "stdout",
     "output_type": "stream",
     "text": [
      "Size of bit array: 2\n",
      "False positive Probability: 0.5 %\n",
      "Number of hash functions: 0\n",
      "\n",
      "geeksforgeeks is a false positive!\n",
      "facebook is a false positive!\n",
      "twitter is a false positive!\n",
      "abounds is a false positive!\n",
      "racism is a false positive!\n",
      "bolster is a false positive!\n",
      "abound is a false positive!\n",
      "blossom is a false positive!\n",
      "cheater is a false positive!\n",
      "hate is a false positive!\n",
      "war is a false positive!\n",
      "humanity is a false positive!\n",
      "hurt is a false positive!\n",
      "bluff is a false positive!\n",
      "nuke is a false positive!\n",
      "abundant is a false positive!\n",
      "gloomy is a false positive!\n",
      "accessable is a false positive!\n",
      "bonus is a false positive!\n",
      "abundance is a false positive!\n",
      "bloom is a false positive!\n",
      "bonny is a false positive!\n"
     ]
    }
   ],
   "source": [
    "n = 2 # number of items, that we want to add\n",
    "p = 0.5 # false positive probability\n",
    "bloomf = BloomFilter(n,p)\n",
    "print(bloomf)\n",
    "\n",
    "word_absent = ['bluff','cheater','hate','war','humanity', 'racism','hurt','nuke',\n",
    "               'gloomy','facebook','geeksforgeeks','twitter']\n",
    "\n",
    "word_present = ['abound','abounds','abundance','abundant','accessable', 'bloom','blossom','bolster',\n",
    "                'bonny','bonus', 'bonuses', 'coherent','cohesive','colorful','comely','comfort',\n",
    "                'gems','generosity','generous','generously','genial']\n",
    "\n",
    "bloomf.add_items_from_list(word_present)\n",
    "test_words = word_present[:10] + word_absent\n",
    "bloomf.check_items_from_list(test_words)"
   ]
  },
  {
   "cell_type": "markdown",
   "metadata": {},
   "source": [
    "## Space and time advantages\n",
    "While risking false positives, Bloom filters have a substantial space advantage over other data structures for representing sets, such as self-balancing binary search trees, tries, hash tables, or simple arrays or linked lists of the entries. Most of these require storing at least the data items themselves, which can require anywhere from a small number of bits, for small integers, to an arbitrary number of bits, such as for strings (tries are an exception since they can share storage between elements with equal prefixes). However, Bloom filters do not store the data items at all, and a separate solution must be provided for the actual storage. Linked structures incur an additional linear space overhead for pointers. A Bloom filter with a 1% error and an optimal value of k, in contrast, requires only about 9.6 bits per element, regardless of the size of the elements. This advantage comes partly from its compactness, inherited from arrays, and partly from its probabilistic nature. The 1% false-positive rate can be reduced by a factor of ten by adding only about 4.8 bits per element.\n",
    "\n",
    "However, if the number of potential values is small and many of them can be in the set, the Bloom filter is easily surpassed by the deterministic bit array, which requires only one bit for each potential element. Hash tables gain a space and time advantage if they begin ignoring collisions and store only whether each bucket contains an entry; in this case, they have effectively become Bloom filters with k = 1."
   ]
  },
  {
   "cell_type": "code",
   "execution_count": 8,
   "metadata": {},
   "outputs": [
    {
     "data": {
      "image/png": "[encoded data removed]",
      "text/plain": [
       "<Figure size 432x288 with 1 Axes>"
      ]
     },
     "metadata": {
      "needs_background": "light"
     },
     "output_type": "display_data"
    }
   ],
   "source": [
    "word_present = ['abound','abounds','abundance','abundant','accessable', 'bloom','blossom',\n",
    "                'bolster','bonny','bonus','bonuses','coherent','cohesive','colorful','comely',\n",
    "                'comfort','gems','generosity','generous','generously','genial']\n",
    "\n",
    "bloomf.plot_sizeof_data_structures_compared_to_a_normal_list(word_present)"
   ]
  },
  {
   "cell_type": "markdown",
   "metadata": {},
   "source": [
    "Bloom filters also have the unusual property that the time needed either to add items or to check whether an item is in the set is a fixed constant, O(k), completely independent of the number of items already in the set. No other constant-space set data structure has this property, but the average access time of sparse hash tables can make them faster in practice than some Bloom filters. In a hardware implementation, however, the Bloom filter shines because its k lookups are independent and can be parallelized.\n",
    "\n",
    "To understand its space efficiency, it is instructive to compare the general Bloom filter with its special case when k = 1. If k = 1, then in order to keep the false positive rate sufficiently low, a small fraction of bits should be set, which means the array must be very large and contain long runs of zeros. The information content of the array relative to its size is low. The generalized Bloom filter (k greater than 1) allows many more bits to be set while still maintaining a low false positive rate; if the parameters (k and m) are chosen well, about half of the bits will be set,[5] and these will be apparently random, minimizing redundancy and maximizing information content."
   ]
  },
  {
   "cell_type": "code",
   "execution_count": 42,
   "metadata": {},
   "outputs": [
    {
     "name": "stdout",
     "output_type": "stream",
     "text": [
      "Size of bit array: 144\n",
      "False positive Probability: 0.5 %\n",
      "Number of hash functions: 0\n",
      "\n",
      "#1\n",
      "#2\n",
      "True\n",
      "0.0493861999999865\n",
      "0.01053690000000529\n"
     ]
    }
   ],
   "source": [
    "n = 100\n",
    "p = 0.5\n",
    "\n",
    "bloomf = BloomFilter(n,p)\n",
    "print(f\"Size of bit array: {bloomf.size}\")\n",
    "print(f\"False positive Probability: {bloomf.fp_prob} %\")\n",
    "print(f\"Number of hash functions: {bloomf.hash_count}\\n\")\n",
    "\n",
    "print(\"#1\")\n",
    "t0 = time.perf_counter()\n",
    "for item in range(0, 100000, 1):\n",
    "\tbloomf.add(\"item\")\n",
    "t1 = time.perf_counter()\n",
    "bloom_filter_time = t1 - t0\n",
    "\n",
    "print(\"#2\")\n",
    "test_list = []\n",
    "t0 = time.perf_counter()\n",
    "for item in range(0, 100000, 1):\n",
    "\ttest_list.append(\"item\")\n",
    "t1 = time.perf_counter()\n",
    "list_time = t1 - t0\n",
    "\n",
    "print(bloom_filter_time > list_time)\n",
    "print(bloom_filter_time)\n",
    "print(list_time)"
   ]
  },
  {
   "cell_type": "markdown",
   "metadata": {},
   "source": [
    "## Bloom Filter application\n",
    "Bloom filter has a large number of applications:\n",
    "* Weak password detection\n",
    "* Internet Cache Protocol\n",
    "* Safe browsing in Google Chrome\n",
    "* Wallet synchronization in Bitcoin\n",
    "* Hash based IP Traceback\n",
    "* Cyber security like virus scanning"
   ]
  },
  {
   "cell_type": "markdown",
   "metadata": {},
   "source": [
    "# Skip List"
   ]
  },
  {
   "cell_type": "markdown",
   "metadata": {},
   "source": [
    "## What is a Skip List?\n",
    "The skip list is a probabilisitc data structure that is built upon the general idea of a linked list. The skip list uses probability to build subsequent layers of linked lists upon an original linked list. Each additional layer of links contains fewer elements, but no new elements."
   ]
  },
  {
   "cell_type": "markdown",
   "metadata": {},
   "source": [
    "## What is the structure of the Skip List?\n",
    "It is built in two layers: \n",
    "* The lowest layer\n",
    "* Top layer.\n",
    "\n",
    "The lowest layer of the skip list is a common sorted linked list, and the top layers of the skip list are like an \"express line\" where the elements are skipped.\n",
    "\n",
    "A skip list starts with a basic, ordered, linked list. This list is sorted, but we can't do a binary search on it because it is a linked list and we cannot index into it. But the ordering will come in handy later.\n",
    "\n",
    "Then, another layer is added on top of the bottom list. This new layer will include any given element from the previous layer with probability p.p. This probability can vary, but oftentimes 1/2 is used. Additionally, the first node in the linked list is often always kept, as a header for the new layer. Take a look at the following graphics and see how some elements are kept but others are discarded. Here, it just so happened that half of the elements are kept in each new layer, but it could be more or less--it's all probabilistic. In all cases, each new layer is still ordered.\n",
    "<img src=\"Images/skip_list1.png\">"
   ]
  },
  {
   "cell_type": "markdown",
   "metadata": {},
   "source": [
    "## Working with Skip List\n",
    "Let's take an example to understand the working of the skip list. In this example, we have 14 nodes, such that these nodes are divided into two layers, as shown in the diagram.\n",
    "\n",
    "The lower layer is a common line that links all nodes, and the top layer is an express line that links only the main nodes, as you can see in the diagram.\n",
    "\n",
    "Suppose you want to find 47 in this example. You will start the search from the first node of the express line and continue running on the express line until you find a node that is equal a 47 or more than 47.\n",
    "\n",
    "You can see in the example that 47 does not exist in the express line, so you search for a node of less than 47, which is 40. Now, you go to the normal line with the help of 40, and search the 47, as shown in the diagram."
   ]
  },
  {
   "cell_type": "code",
   "execution_count": 2,
   "metadata": {},
   "outputs": [
    {
     "ename": "NameError",
     "evalue": "name 'Node' is not defined",
     "output_type": "error",
     "traceback": [
      "\u001b[1;31m---------------------------------------------------------------------------\u001b[0m",
      "\u001b[1;31mNameError\u001b[0m                                 Traceback (most recent call last)",
      "\u001b[1;32m<ipython-input-2-4e5de6c919de>\u001b[0m in \u001b[0;36m<module>\u001b[1;34m\u001b[0m\n\u001b[1;32m----> 1\u001b[1;33m \u001b[0mlst\u001b[0m \u001b[1;33m=\u001b[0m \u001b[0mSkipList\u001b[0m\u001b[1;33m(\u001b[0m\u001b[1;36m3\u001b[0m\u001b[1;33m,\u001b[0m \u001b[1;36m0.5\u001b[0m\u001b[1;33m)\u001b[0m\u001b[1;33m\u001b[0m\u001b[1;33m\u001b[0m\u001b[0m\n\u001b[0m\u001b[0;32m      2\u001b[0m \u001b[0mlst\u001b[0m\u001b[1;33m.\u001b[0m\u001b[0minsertElement\u001b[0m\u001b[1;33m(\u001b[0m\u001b[1;36m3\u001b[0m\u001b[1;33m)\u001b[0m\u001b[1;33m\u001b[0m\u001b[1;33m\u001b[0m\u001b[0m\n\u001b[0;32m      3\u001b[0m \u001b[0mlst\u001b[0m\u001b[1;33m.\u001b[0m\u001b[0minsertElement\u001b[0m\u001b[1;33m(\u001b[0m\u001b[1;36m6\u001b[0m\u001b[1;33m)\u001b[0m\u001b[1;33m\u001b[0m\u001b[1;33m\u001b[0m\u001b[0m\n\u001b[0;32m      4\u001b[0m \u001b[0mlst\u001b[0m\u001b[1;33m.\u001b[0m\u001b[0minsertElement\u001b[0m\u001b[1;33m(\u001b[0m\u001b[1;36m7\u001b[0m\u001b[1;33m)\u001b[0m\u001b[1;33m\u001b[0m\u001b[1;33m\u001b[0m\u001b[0m\n\u001b[0;32m      5\u001b[0m \u001b[0mlst\u001b[0m\u001b[1;33m.\u001b[0m\u001b[0minsertElement\u001b[0m\u001b[1;33m(\u001b[0m\u001b[1;36m9\u001b[0m\u001b[1;33m)\u001b[0m\u001b[1;33m\u001b[0m\u001b[1;33m\u001b[0m\u001b[0m\n",
      "\u001b[1;32mE:\\Math-Concepts-For-Developers\\Final project\\skip_list.py\u001b[0m in \u001b[0;36m__init__\u001b[1;34m(self, max_lvl, P)\u001b[0m\n\u001b[0;32m     26\u001b[0m \u001b[1;33m\u001b[0m\u001b[0m\n\u001b[0;32m     27\u001b[0m                 \u001b[1;31m# create header node and initialize key to -1\u001b[0m\u001b[1;33m\u001b[0m\u001b[1;33m\u001b[0m\u001b[1;33m\u001b[0m\u001b[0m\n\u001b[1;32m---> 28\u001b[1;33m                 \u001b[0mself\u001b[0m\u001b[1;33m.\u001b[0m\u001b[0mheader\u001b[0m \u001b[1;33m=\u001b[0m \u001b[0mself\u001b[0m\u001b[1;33m.\u001b[0m\u001b[0mcreateNode\u001b[0m\u001b[1;33m(\u001b[0m\u001b[0mself\u001b[0m\u001b[1;33m.\u001b[0m\u001b[0mMAXLVL\u001b[0m\u001b[1;33m,\u001b[0m \u001b[1;33m-\u001b[0m\u001b[1;36m1\u001b[0m\u001b[1;33m)\u001b[0m\u001b[1;33m\u001b[0m\u001b[1;33m\u001b[0m\u001b[0m\n\u001b[0m\u001b[0;32m     29\u001b[0m \u001b[1;33m\u001b[0m\u001b[0m\n\u001b[0;32m     30\u001b[0m                 \u001b[1;31m# current level of skip list\u001b[0m\u001b[1;33m\u001b[0m\u001b[1;33m\u001b[0m\u001b[1;33m\u001b[0m\u001b[0m\n",
      "\u001b[1;32mE:\\Math-Concepts-For-Developers\\Final project\\skip_list.py\u001b[0m in \u001b[0;36mcreateNode\u001b[1;34m(self, lvl, key)\u001b[0m\n\u001b[0;32m     33\u001b[0m         \u001b[1;31m# create new node\u001b[0m\u001b[1;33m\u001b[0m\u001b[1;33m\u001b[0m\u001b[1;33m\u001b[0m\u001b[0m\n\u001b[0;32m     34\u001b[0m         \u001b[1;32mdef\u001b[0m \u001b[0mcreateNode\u001b[0m\u001b[1;33m(\u001b[0m\u001b[0mself\u001b[0m\u001b[1;33m,\u001b[0m \u001b[0mlvl\u001b[0m\u001b[1;33m,\u001b[0m \u001b[0mkey\u001b[0m\u001b[1;33m)\u001b[0m\u001b[1;33m:\u001b[0m\u001b[1;33m\u001b[0m\u001b[1;33m\u001b[0m\u001b[0m\n\u001b[1;32m---> 35\u001b[1;33m                 \u001b[0mn\u001b[0m \u001b[1;33m=\u001b[0m \u001b[0mNode\u001b[0m\u001b[1;33m(\u001b[0m\u001b[0mkey\u001b[0m\u001b[1;33m,\u001b[0m \u001b[0mlvl\u001b[0m\u001b[1;33m)\u001b[0m\u001b[1;33m\u001b[0m\u001b[1;33m\u001b[0m\u001b[0m\n\u001b[0m\u001b[0;32m     36\u001b[0m                 \u001b[1;32mreturn\u001b[0m \u001b[0mn\u001b[0m\u001b[1;33m\u001b[0m\u001b[1;33m\u001b[0m\u001b[0m\n\u001b[0;32m     37\u001b[0m \u001b[1;33m\u001b[0m\u001b[0m\n",
      "\u001b[1;31mNameError\u001b[0m: name 'Node' is not defined"
     ]
    }
   ],
   "source": [
    "lst = SkipList(3, 0.5)\n",
    "lst.insertElement(3)\n",
    "lst.insertElement(6)\n",
    "lst.insertElement(7)\n",
    "lst.insertElement(9)\n",
    "lst.insertElement(12)\n",
    "lst.insertElement(19)\n",
    "lst.insertElement(17)\n",
    "lst.insertElement(26)\n",
    "lst.insertElement(21)\n",
    "lst.insertElement(25)\n",
    "lst.displayList()"
   ]
  },
  {
   "cell_type": "markdown",
   "metadata": {},
   "source": [
    "### 13. Probabilistic Data Structures\n",
    "A very interesting application of probability in computer science is a kind of data structures which have a probabilistic behaviour. Examples of these are **Bloom filter**, **Skip list**, **Count-min sketch** and **HyperLogLog**.\n",
    "\n",
    "Research how one of these structures works. Or write about many of them, if you wish. You can use the following checklist as a guide: \n",
    "* ~~What is a data structure?~~\n",
    "* ~~What is a probabilistic data structure?~~\n",
    "    * Where does the probabilistic behaviour emerge?\n",
    "    * ~~What advantages do these structures provide?~~\n",
    "* ~~For your chosen structure, how is it constructed?~~\n",
    "    * ~~What parts do you need? What are the details?~~\n",
    "* ~~How does the structure work?~~\n",
    "    * ~~What operations can you do?~~\n",
    "    * What are the typical probabilities associated with these operations?\n",
    "* Analyze the structure\n",
    "    * Analyze the runtimes for all operations\n",
    "    * Analyze the space usage\n",
    "    * Compare to a similar, non-probabilistic data structure\n",
    "    * What advantages does the new data structure have? What drawbacks do you need to be aware of?\n",
    "* Give at least one example where this structure is useful\n",
    "    * E.g. Bloom filter - spell checkers\n",
    "    * Analyze the use case\n",
    "    * If possible, implement the use case\n",
    "    * Display some metrics (e.g. % conserved space, % reduced time)"
   ]
  }
 ],
 "metadata": {
  "kernelspec": {
   "display_name": "Python 3",
   "language": "python",
   "name": "python3"
  },
  "language_info": {
   "codemirror_mode": {
    "name": "ipython",
    "version": 3
   },
   "file_extension": ".py",
   "mimetype": "text/x-python",
   "name": "python",
   "nbconvert_exporter": "python",
   "pygments_lexer": "ipython3",
   "version": "3.8.5"
  }
 },
 "nbformat": 4,
 "nbformat_minor": 4
}
