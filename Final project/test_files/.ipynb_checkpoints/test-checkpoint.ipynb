{
 "cells": [
  {
   "cell_type": "code",
   "execution_count": 6,
   "metadata": {},
   "outputs": [],
   "source": [
    "# Python 3 program to build Bloom Filter\n",
    "# Install mmh3 and bitarray 3rd party module first\n",
    "# pip install mmh3\n",
    "# pip install bitarray\n",
    "import time\n",
    "import math\n",
    "import mmh3\n",
    "from bitarray import bitarray\n",
    "import sys\n",
    "import matplotlib.pyplot as plt"
   ]
  },
  {
   "cell_type": "code",
   "execution_count": 3,
   "metadata": {},
   "outputs": [],
   "source": [
    "class BloomFilter(object):\n",
    "    '''\n",
    "    Class for Bloom filter, using murmur3 hash function\n",
    "    '''\n",
    "\n",
    "    def __init__(self, items_count, fp_prob):\n",
    "        '''\n",
    "        items_count : int\n",
    "            Number of items expected to be stored in bloom filter\n",
    "        fp_prob : float\n",
    "            False Positive probability in decimal\n",
    "        '''\n",
    "        # False posible probability in decimal\n",
    "        self.fp_prob = fp_prob\n",
    "\n",
    "        # Size of bit array to use\n",
    "        self.size = self.get_size(items_count, fp_prob)\n",
    "\n",
    "        # number of hash functions to use\n",
    "        self.hash_count = self.get_hash_count(self.size, items_count)\n",
    "\n",
    "        # Bit array of given size\n",
    "        self.bit_array = bitarray(self.size)\n",
    "\n",
    "        # initialize all bits as 0\n",
    "        self.bit_array.setall(0)\n",
    "\n",
    "    def add(self, item):\n",
    "        '''\n",
    "        Add an item in the filter\n",
    "        '''\n",
    "        digests = []\n",
    "        for i in range(self.hash_count):\n",
    "            # create digest for given item.\n",
    "            # i work as seed to mmh3.hash() function\n",
    "            # With different seed, digest created is different\n",
    "            digest = mmh3.hash(item, i) % self.size\n",
    "            digests.append(digest)\n",
    "\n",
    "            # set the bit True in bit_array\n",
    "            self.bit_array[digest] = True\n",
    "\n",
    "    def check(self, item):\n",
    "        '''\n",
    "        Check for existence of an item in filter\n",
    "        '''\n",
    "        for i in range(self.hash_count):\n",
    "            digest = mmh3.hash(item, i) % self.size\n",
    "            if self.bit_array[digest] == False:\n",
    "                # if any of bit is False then,its not present\n",
    "                # in filter\n",
    "                # else there is probability that it exist\n",
    "                return False\n",
    "        return True\n",
    "\n",
    "    @classmethod\n",
    "    def get_size(self, n, p):\n",
    "        '''\n",
    "        Return the size of bit array(m) to used using\n",
    "        following formula\n",
    "        m = -(n * lg(p)) / (lg(2)^2)\n",
    "        n : int\n",
    "            number of items expected to be stored in filter\n",
    "        p : float\n",
    "            False Positive probability in decimal\n",
    "        '''\n",
    "        m = -(n * math.log(p)) / (math.log(2) ** 2)\n",
    "        return int(m)\n",
    "\n",
    "    @classmethod\n",
    "    def get_hash_count(self, m, n):\n",
    "        '''\n",
    "        Return the hash function(k) to be used using\n",
    "        following formula\n",
    "        k = (m/n) * lg(2)\n",
    "\n",
    "        m : int\n",
    "            size of bit array\n",
    "        n : int\n",
    "            number of items expected to be stored in filter\n",
    "        '''\n",
    "        k = (m / n) * math.log(2)\n",
    "        return int(k)\n",
    "\n",
    "\n",
    "def plot_sizeof_data_structures(elements_list: list):\n",
    "    list_structure = []\n",
    "    bloom_filter_structure = BloomFilter(len(elements_list), 0.5)\n",
    "    \n",
    "    for el in elements_list:\n",
    "        list_structure.append(el)\n",
    "        bloom_filter_structure.add(el)\n",
    "        \n",
    "    # [list_structure.append(x) for x in elements_list]\n",
    "    # [bloom_filter_structure.add(x) for x in elements_list]\n",
    "            \n",
    "        \n",
    "    bloom_filter_size = sys.getsizeof(bloom_filter_structure)\n",
    "    list_strucutre_size = sys.getsizeof(list_structure)\n",
    "        \n",
    "    left = [\"Bloom Filter\", \"Normal list\"]\n",
    "    height = [bloom_filter_size, list_strucutre_size]\n",
    "    \n",
    "    plt.bar(left, height, width = 0.8, color = ['red', 'green'])\n",
    "    \n",
    "    plt.xlabel('Data Structures')\n",
    "    plt.ylabel('Bytes')\n",
    "    plt.title('Space usage')\n",
    "    plt.show()"
   ]
  },
  {
   "cell_type": "code",
   "execution_count": 4,
   "metadata": {},
   "outputs": [
    {
     "data": {
      "image/png": "[encoded data removed]",
      "text/plain": [
       "<Figure size 432x288 with 1 Axes>"
      ]
     },
     "metadata": {
      "needs_background": "light"
     },
     "output_type": "display_data"
    }
   ],
   "source": [
    "word_present = ['abound','abounds','abundance','abundant','accessable',\n",
    "\t\t\t\t'bloom','blossom','bolster','bonny','bonus','bonuses',\n",
    "\t\t\t\t'coherent','cohesive','colorful','comely','comfort',\n",
    "\t\t\t\t'gems','generosity','generous','generously','genial']\n",
    "\n",
    "plot_sizeof_data_structures(word_present)"
   ]
  },
  {
   "cell_type": "code",
   "execution_count": 7,
   "metadata": {},
   "outputs": [
    {
     "name": "stdout",
     "output_type": "stream",
     "text": [
      "Bloom filter: 0.00047959999999847014\n",
      "Normal list: 0.00016379999999571737\n"
     ]
    }
   ],
   "source": [
    "n = 100000\n",
    "p = 0.5\n",
    "\n",
    "bloomf = BloomFilter(n,p)\n",
    "test_list = []\n",
    "\n",
    "start = time.perf_counter()\n",
    "[bloomf.add(x) for x in range(-100, 1000, 1)]\n",
    "end = time.perf_counter()\n",
    "bloom_filter_time = end - start\n",
    "\n",
    "start = time.perf_counter()\n",
    "[test_list.append(x) for x in range(-100, 1000, 1)]\n",
    "end = time.perf_counter()\n",
    "list_time = end - start\n",
    "\n",
    "print(f\"Bloom filter: {bloom_filter_time}\")\n",
    "print(f\"Normal list: {list_time}\")"
   ]
  }
 ],
 "metadata": {
  "kernelspec": {
   "display_name": "Python 3",
   "language": "python",
   "name": "python3"
  },
  "language_info": {
   "codemirror_mode": {
    "name": "ipython",
    "version": 3
   },
   "file_extension": ".py",
   "mimetype": "text/x-python",
   "name": "python",
   "nbconvert_exporter": "python",
   "pygments_lexer": "ipython3",
   "version": "3.8.5"
  }
 },
 "nbformat": 4,
 "nbformat_minor": 4
}
