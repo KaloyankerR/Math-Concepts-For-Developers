{
 "cells": [
  {
   "cell_type": "code",
   "execution_count": 12,
   "metadata": {},
   "outputs": [],
   "source": [
    "import random\n",
    "import sys\n",
    "import time\n",
    "import matplotlib.pyplot as plt"
   ]
  },
  {
   "cell_type": "code",
   "execution_count": 3,
   "metadata": {},
   "outputs": [],
   "source": [
    "class Node(object):\n",
    "\tdef __init__(self, key, level):\n",
    "\t\tself.key = key\n",
    "\t\tself.forward = [None]*(level+1) # list to hold references to node of different level\n",
    "\n",
    "\n",
    "class SkipList(object):\n",
    "\tdef __init__(self, max_lvl, P):\n",
    "\t\tself.MAXLVL = max_lvl \t\t# Maximum level for this skip list\n",
    "\t\tself.P = P # P is the fraction of the nodes with level i references also having level i+1 references\n",
    "\t\tself.header = self.createNode(self.MAXLVL, -1) # create header node and initialize key to -1\n",
    "\t\tself.level = 0 # current level of skip list\n",
    "    \n",
    "    \n",
    "\tdef createNode(self, lvl, key): # creates a new node\n",
    "\t\tn = Node(key, lvl)\n",
    "\t\treturn n\n",
    "\t\n",
    "\t\n",
    "\tdef randomLevel(self): # creates random level for node\n",
    "\t\tlvl = 0\n",
    "\t\twhile random.random() < self.P and lvl < self.MAXLVL:lvl += 1\n",
    "\t\treturn lvl\n",
    "\n",
    "\n",
    "\tdef insertElement(self, key): # inserts given key in the skip list\n",
    "\t\tupdate = [None]*(self.MAXLVL+1) # create update array and initialize it\n",
    "\t\tcurrent = self.header\n",
    "        \n",
    "\t\tfor i in range(self.level, -1, -1):\n",
    "\t\t\twhile current.forward[i] and \\\n",
    "\t\t\t\tcurrent.forward[i].key < key:\n",
    "\t\t\t\tcurrent = current.forward[i]\n",
    "\t\t\tupdate[i] = current\n",
    "\n",
    "\t\tcurrent = current.forward[0]\n",
    "\n",
    "\t\tif current == None or current.key != key:\n",
    "\t\t\t# generates a random level for node\n",
    "\t\t\trlevel = self.randomLevel()\n",
    "\n",
    "\t\t\tif rlevel > self.level:\n",
    "\t\t\t\tfor i in range(self.level+1, rlevel+1):\n",
    "\t\t\t\t\tupdate[i] = self.header\n",
    "\t\t\t\tself.level = rlevel\n",
    "\n",
    "\t\t\tn = self.createNode(rlevel, key) # create new node with random level generated\n",
    "            \n",
    "            # inserts the node by rearranging references\n",
    "\t\t\tfor i in range(rlevel+1):\n",
    "\t\t\t\tn.forward[i] = update[i].forward[i]\n",
    "\t\t\t\tupdate[i].forward[i] = n\n",
    "\t\t\t# print(f\"Successfully inserted key {key}\")\n",
    "            \n",
    "                    \n",
    "\tdef deleteElement(self, search_key):\n",
    "\t\tupdate = [None]*(self.MAXLVL+1) # creates an update array and initialize it\n",
    "\t\tcurrent = self.header\n",
    "\n",
    "\t\tfor i in range(self.level, -1, -1):\n",
    "\t\t\twhile(current.forward[i] and \\\n",
    "\t\t\t\tcurrent.forward[i].key < search_key):\n",
    "\t\t\t\tcurrent = current.forward[i]\n",
    "\t\t\tupdate[i] = current\n",
    "\n",
    "\t\tcurrent = current.forward[0]\n",
    "\n",
    "\t\t# If current node is target node\n",
    "\t\tif current != None and current.key == search_key:\n",
    "\t\t\tfor i in range(self.level+1):\n",
    "\t\t\t\tif update[i].forward[i] != current:\n",
    "\t\t\t\t\tbreak\n",
    "\t\t\t\tupdate[i].forward[i] = current.forward[i]\n",
    "\n",
    "\t\t\t# Removes levels having no elements\n",
    "\t\t\twhile(self.level>0 and\\\n",
    "\t\t\t\tself.header.forward[self.level] == None):\n",
    "\t\t\t\tself.level -= 1\n",
    "\t\t\tprint(\"Successfully deleted {}\".format(search_key))\n",
    "\n",
    "\tdef searchElement(self, key):\n",
    "\t\tcurrent = self.header\n",
    "        \n",
    "\t\tfor i in range(self.level, -1, -1):\n",
    "\t\t\twhile(current.forward[i] and\\\n",
    "\t\t\t\tcurrent.forward[i].key < key):\n",
    "\t\t\t\tcurrent = current.forward[i]\n",
    "\n",
    "\t\t# reached level 0 and advance reference to\n",
    "\t\t# right, which is prssibly our desired node\n",
    "\t\tcurrent = current.forward[0]\n",
    "\n",
    "\t\t# If current node have key equal to\n",
    "\t\t# search key, we have found our target node\n",
    "\t\tif current and current.key == key:\n",
    "\t\t\tprint(\"Found key \", key)\n",
    "   \n",
    "\n",
    "\t# Display skip list level wise\n",
    "\tdef displayList(self):\n",
    "\t\tprint(\"\\n*****Skip List******\")\n",
    "\t\thead = self.header\n",
    "\t\tfor lvl in range(self.level+1):\n",
    "\t\t\tprint(\"Level {}: \".format(lvl), end=\" \")\n",
    "\t\t\tnode = head.forward[lvl]\n",
    "\t\t\twhile(node != None):\n",
    "\t\t\t\tprint(node.key, end=\" \")\n",
    "\t\t\t\tnode = node.forward[lvl]\n",
    "\t\t\tprint(\"\")\n"
   ]
  },
  {
   "cell_type": "code",
   "execution_count": 6,
   "metadata": {},
   "outputs": [
    {
     "name": "stdout",
     "output_type": "stream",
     "text": [
      "Skip list: 0.023438499999997475\n",
      "Normal list: 0.00044570000000021537\n"
     ]
    }
   ],
   "source": [
    "skip_list = SkipList(3, 0.5)\n",
    "test_list = []\n",
    "\n",
    "start = time.perf_counter()\n",
    "[skip_list.insertElement(str(x)) for x in range(-100, 1000, 1)]\n",
    "end = time.perf_counter()\n",
    "skip_list_time = end - start\n",
    "\n",
    "start = time.perf_counter()\n",
    "[test_list.append(str(x)) for x in range(-100, 1000, 1)]\n",
    "end = time.perf_counter()\n",
    "list_time = end - start\n",
    "\n",
    "print(f\"Skip list: {skip_list_time}\")\n",
    "print(f\"Normal list: {list_time}\")"
   ]
  },
  {
   "cell_type": "code",
   "execution_count": 7,
   "metadata": {},
   "outputs": [],
   "source": [
    "def plot_skip_list(elements_to_add: list, skip_list_structure: object):\n",
    "    list_structure = []\n",
    "    \n",
    "    for element in elements_to_add:\n",
    "            skip_list_structure.insertElement(element)\n",
    "            list_structure.append(element)\n",
    "            \n",
    "    skip_list_size = sys.getsizeof(skip_list_structure)\n",
    "    list_strucutre_size = sys.getsizeof(list_structure)\n",
    "        \n",
    "    data_structures = [\"Skip List\", \"Normal list\"]\n",
    "    height = [skip_list_size, list_strucutre_size]\n",
    "        \n",
    "    plt.bar(data_structures, height, width = 0.8, color = ['red', 'green'])\n",
    "    plt.xlabel('Data Structures')\n",
    "    plt.ylabel('Bytes')\n",
    "    plt.title('Space usage')\n",
    "    plt.show()"
   ]
  },
  {
   "cell_type": "code",
   "execution_count": 18,
   "metadata": {},
   "outputs": [
    {
     "data": {
      "image/png": "[encoded data removed]",
      "text/plain": [
       "<Figure size 432x288 with 1 Axes>"
      ]
     },
     "metadata": {
      "needs_background": "light"
     },
     "output_type": "display_data"
    },
    {
     "data": {
      "image/png": "[encoded data removed]",
      "text/plain": [
       "<Figure size 432x288 with 1 Axes>"
      ]
     },
     "metadata": {
      "needs_background": "light"
     },
     "output_type": "display_data"
    },
    {
     "data": {
      "image/png": "[encoded data removed]",
      "text/plain": [
       "<Figure size 432x288 with 1 Axes>"
      ]
     },
     "metadata": {
      "needs_background": "light"
     },
     "output_type": "display_data"
    }
   ],
   "source": [
    "skip_list = SkipList(3, 0.5)\n",
    "elements_to_add = ['abound','abounds','abundance','abundant','accessable','bloom','blossom','bolster','bonny','bonus','bonuses',\n",
    "                'coherent','cohesive','colorful','comely','comfort','gems','generosity','generous','generously','genial']            \n",
    "elements_to_add1 = [str(x) for x in range(0, 10, 5)]\n",
    "elements_to_add2 = [str(x) for x in range(-10000, 10000, 1)]\n",
    "\n",
    "plot_skip_list(elements_to_add, skip_list)\n",
    "plot_skip_list(elements_to_add1, skip_list)\n",
    "plot_skip_list(elements_to_add2, skip_list)"
   ]
  }
 ],
 "metadata": {
  "kernelspec": {
   "display_name": "Python 3",
   "language": "python",
   "name": "python3"
  },
  "language_info": {
   "codemirror_mode": {
    "name": "ipython",
    "version": 3
   },
   "file_extension": ".py",
   "mimetype": "text/x-python",
   "name": "python",
   "nbconvert_exporter": "python",
   "pygments_lexer": "ipython3",
   "version": "3.8.5"
  }
 },
 "nbformat": 4,
 "nbformat_minor": 4
}
